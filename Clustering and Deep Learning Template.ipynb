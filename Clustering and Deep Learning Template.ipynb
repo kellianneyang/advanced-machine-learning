{
 "cells": [
  {
   "cell_type": "markdown",
   "id": "8c5fe9fe",
   "metadata": {},
   "source": [
    "# Clustering and Deep Learning Template"
   ]
  },
  {
   "cell_type": "code",
   "execution_count": null,
   "id": "9d95eadb",
   "metadata": {},
   "outputs": [],
   "source": [
    "# imports\n",
    "\n",
    "# general\n",
    "import pandas as pd\n",
    "import numpy as np\n",
    "\n",
    "# preprocessing\n",
    "from sklearn.model_selection import train_test_split\n",
    "from sklearn.preprocessing import StandardScaler, OneHotEncoder\n",
    "from sklearn.impute import SimpleImputer\n",
    "from sklearn.pipeline import make_pipeline\n",
    "from sklearn.compose import make_column_transformer\n",
    "\n",
    "# modeling\n",
    "from sklearn.cluster import KMeans\n",
    "from sklearn.decomposition import PCA\n",
    "from tensorflow.keras import Sequential\n",
    "from tensorflow.keras import metrics\n",
    "from tensorflow.keras.layers import Dense, Dropout\n",
    "from tensorflow.keras.callbacks import EarlyStopping\n",
    "\n",
    "# plotting\n",
    "import matplotlib.pyplot as plt\n",
    "from kneed import KneeLocator\n",
    "from sklearn.metrics import silhouette_score"
   ]
  },
  {
   "cell_type": "markdown",
   "id": "cb00c390",
   "metadata": {},
   "source": [
    "# 1 Clustering - Cleaning (1.25)"
   ]
  },
  {
   "cell_type": "markdown",
   "id": "685380cd",
   "metadata": {},
   "source": [
    "## 1.1 Clustering data file is correctly loaded (0.25)"
   ]
  },
  {
   "cell_type": "code",
   "execution_count": null,
   "id": "c7662a31",
   "metadata": {},
   "outputs": [],
   "source": [
    "# load data\n",
    "path = \"\"\n",
    "df = pd.read_csv()"
   ]
  },
  {
   "cell_type": "markdown",
   "id": "7fabfebc",
   "metadata": {},
   "source": [
    "## 1.2 Data is properly cleaned (1)"
   ]
  },
  {
   "cell_type": "code",
   "execution_count": null,
   "id": "c5ef41e8",
   "metadata": {},
   "outputs": [],
   "source": [
    "# make all lowercase\n",
    "df = df.applymap(lambda x: x.lower() if type(x) == str else x)"
   ]
  },
  {
   "cell_type": "code",
   "execution_count": null,
   "id": "ff057d38",
   "metadata": {},
   "outputs": [],
   "source": [
    "# check\n",
    "df.info()"
   ]
  },
  {
   "cell_type": "code",
   "execution_count": null,
   "id": "b5ba3ea8",
   "metadata": {},
   "outputs": [],
   "source": [
    "# drop any duplicates\n",
    "df.drop_duplicates(inplace = True)\n",
    "\n",
    "# check\n",
    "df.duplicated().sum()"
   ]
  },
  {
   "cell_type": "code",
   "execution_count": null,
   "id": "4680078b",
   "metadata": {},
   "outputs": [],
   "source": [
    "# determine number of missing values\n",
    "df.isna().sum()\n",
    "\n",
    "# no missing values"
   ]
  },
  {
   "cell_type": "code",
   "execution_count": null,
   "id": "262d0351",
   "metadata": {},
   "outputs": [],
   "source": [
    "# inspect data (all dtypes are int64)\n",
    "\n",
    "df.describe()"
   ]
  },
  {
   "cell_type": "markdown",
   "id": "9f6ac8f2",
   "metadata": {},
   "source": [
    "# 2 Clustering (6.5)"
   ]
  },
  {
   "cell_type": "markdown",
   "id": "54bbafe1",
   "metadata": {},
   "source": [
    "## 2.1 Data is properly prepared for clustering (1)"
   ]
  },
  {
   "cell_type": "code",
   "execution_count": null,
   "id": "f9033b84",
   "metadata": {},
   "outputs": [],
   "source": [
    "# create copy of data to use for part 1\n",
    "df1 = df.copy()"
   ]
  },
  {
   "cell_type": "code",
   "execution_count": null,
   "id": "963deacc",
   "metadata": {},
   "outputs": [],
   "source": [
    "# no need for a preprocessor object; all data only needs to be scaled\n",
    "\n",
    "scaler = StandardScaler()"
   ]
  },
  {
   "cell_type": "code",
   "execution_count": null,
   "id": "468f52db",
   "metadata": {},
   "outputs": [],
   "source": [
    "# scale all data with scaler\n",
    "scaled_data = scaler.fit_transform(df1)\n",
    "\n",
    "# check\n",
    "scaled_data[:5]"
   ]
  },
  {
   "cell_type": "markdown",
   "id": "91efe1ac",
   "metadata": {},
   "source": [
    "## 2.2 KMeans model is fit on data (2)"
   ]
  },
  {
   "cell_type": "markdown",
   "id": "54be15e6",
   "metadata": {},
   "source": [
    "## 2.3 Compare intertia over 2-10 clusters (0.5)"
   ]
  },
  {
   "cell_type": "markdown",
   "id": "0f5af559",
   "metadata": {},
   "source": [
    "## 2.4 Compare silhouette score over 2-10 clusters (0.5)"
   ]
  },
  {
   "cell_type": "code",
   "execution_count": null,
   "id": "859bc4f7",
   "metadata": {},
   "outputs": [],
   "source": [
    "# create empty lists for inertias and silhouette scores\n",
    "inertias = []\n",
    "silhouette_scores = []\n",
    "\n",
    "# look through k values 2-10 and store inertias and silhouette_scores\n",
    "for k in range(2, 11):\n",
    "    kmeans = KMeans(n_clusters = k, random_state = 42)\n",
    "    kmeans.fit(scaled_data)\n",
    "    inertias.append(kmeans.inertia_)\n",
    "    silhouette_scores.append(silhouette_score(scaled_data, kmeans.labels_))\n",
    "    \n",
    "# visualize plots\n",
    "fig, axes = plt.subplots(ncols = 2, figsize = (10, 5))\n",
    "\n",
    "# inertia\n",
    "axes[0].set_title('inertia plot')\n",
    "axes[0].plot(range(2, 11), inertias, marker = '.')\n",
    "axes[0].set_ylabel('inertia')\n",
    "axes[0].set_xlabel('clusters')\n",
    "\n",
    "# find the knee point for inertia plot\n",
    "knee_locator = KneeLocator(range(2, 11), \n",
    "                           inertias,\n",
    "                           curve = 'convex',\n",
    "                           direction = 'decreasing',\n",
    "                           interp_method = 'polynomial')\n",
    "knee = knee_locator.knee\n",
    "axes[0].axvline(x = knee, color = 'red')\n",
    "\n",
    "# silhouette scores\n",
    "axes[1].set_title('silhouette scores plot')\n",
    "axes[1].plot(range(2, 11), silhouette_scores, marker = '.')\n",
    "axes[1].set_ylabel('silhouette scores')\n",
    "axes[1].set_xlabel('clusters')\n",
    "\n",
    "fig.tight_layout();"
   ]
  },
  {
   "cell_type": "markdown",
   "id": "38471f42",
   "metadata": {},
   "source": [
    "## 2.5 Explain choice of number of clusters based on silhouette score or inertia (0.25)"
   ]
  },
  {
   "cell_type": "markdown",
   "id": "8f9b1af4",
   "metadata": {},
   "source": [
    "The knee locator on the inertia plot indicates that 6 clusters is the ideal knee point of the plot. Visually, I can also see a slight knee in the plot at 7 clusters. Any number of clusters before 6 or after 7 does not seem to be an inflection point in the plot.\n",
    "\n",
    "The silhouette scores plot indicates that 2 clusters would be a good number for this data, and the second-best would be 7 or 8, both of which have significantly lower silhouette scores than 2, but comparable silhouette scores to each other.\n",
    "\n",
    "Seven clusters seems to be a compromise number between the inertia and silhouette scores plot. The inertia plot suggests 6 or 7, and the silhouette scores plot suggests 2, 8, or possibly 7. So, I will proceed with 7 clusters for this analysis."
   ]
  },
  {
   "cell_type": "code",
   "execution_count": null,
   "id": "2c3b881b",
   "metadata": {},
   "outputs": [],
   "source": [
    "# instantiate model with 7 clusters\n",
    "kmeans = KMeans(n_clusters = 7, random_state = 42)\n",
    "kmeans.fit(scaled_data)\n",
    "\n",
    "# add clusters as column in df1\n",
    "df1['cluster'] = kmeans.labels_\n",
    "\n",
    "# check\n",
    "df1.head(10)"
   ]
  },
  {
   "cell_type": "code",
   "execution_count": null,
   "id": "c88e2d70",
   "metadata": {},
   "outputs": [],
   "source": [
    "# look at aggregate means by cluster in table form\n",
    "# as_index = False makes clusters a column instead of the index\n",
    "cluster_groups = df1.groupby('cluster', as_index = False).mean()\n",
    "cluster_groups"
   ]
  },
  {
   "cell_type": "markdown",
   "id": "b7dd1007",
   "metadata": {},
   "source": [
    "## 2.6 1st explanatory visualization to describe a trend in clusters (1)"
   ]
  },
  {
   "cell_type": "code",
   "execution_count": null,
   "id": "2e98a61c",
   "metadata": {},
   "outputs": [],
   "source": [
    "# visualize the clusters' aggregate means with bar charts\n",
    "# 24 columns\n",
    "fig, axes = plt.subplots(8, 3, figsize = (9, 24))\n",
    "\n",
    "# axes.ravel() flattens array\n",
    "axes = axes.ravel()\n",
    "\n",
    "# loop over columns and plot each; skip 'cluster' column\n",
    "for i, col in enumerate(cluster_groups.columns[1:]):\n",
    "    axes[i].bar(cluster_groups['cluster'], cluster_groups[col])\n",
    "    axes[i].set_title(f\"Mean {col}\")\n",
    "\n",
    "plt.tight_layout();"
   ]
  },
  {
   "cell_type": "markdown",
   "id": "93848213",
   "metadata": {},
   "source": [
    "## 2.7 Interprets 1st visualization to describe a trend in clusters (0.5)"
   ]
  },
  {
   "cell_type": "markdown",
   "id": "afa44f32",
   "metadata": {},
   "source": [
    "interpretation"
   ]
  },
  {
   "cell_type": "markdown",
   "id": "b063889f",
   "metadata": {},
   "source": [
    "## 2.8 2nd explanatory visualization shows a difference between clusters (0.5)"
   ]
  },
  {
   "cell_type": "code",
   "execution_count": null,
   "id": "216172d8",
   "metadata": {},
   "outputs": [],
   "source": [
    "# scatterplot of two features (one on x and one on y axis)\n",
    "# hue = clusters"
   ]
  },
  {
   "cell_type": "markdown",
   "id": "fb8e1a8a",
   "metadata": {},
   "source": [
    "## 2.9 Interprets 2nd visualization to describe a trend in clusters (0.25)"
   ]
  },
  {
   "cell_type": "markdown",
   "id": "19b587d8",
   "metadata": {},
   "source": [
    "interpretation"
   ]
  },
  {
   "cell_type": "markdown",
   "id": "63d3e7c1",
   "metadata": {},
   "source": [
    "# 3 Modeling (11)"
   ]
  },
  {
   "cell_type": "markdown",
   "id": "bb443b2d",
   "metadata": {},
   "source": [
    "## 3.1 Modeling data file is correctly loaded (0.25)"
   ]
  },
  {
   "cell_type": "code",
   "execution_count": null,
   "id": "94dda58c",
   "metadata": {},
   "outputs": [],
   "source": [
    "# load data\n",
    "path = \"\"\n",
    "df = pd.read_csv()"
   ]
  },
  {
   "cell_type": "code",
   "execution_count": null,
   "id": "82995bb5",
   "metadata": {},
   "outputs": [],
   "source": [
    "# create copy of df to use for part 2\n",
    "df2 = df.copy()"
   ]
  },
  {
   "cell_type": "markdown",
   "id": "bc848a1a",
   "metadata": {},
   "source": [
    "## 3.2 Train/text split is performed (3)"
   ]
  },
  {
   "cell_type": "code",
   "execution_count": null,
   "id": "8d158f5f",
   "metadata": {},
   "outputs": [],
   "source": [
    "# split into target (y) and features (X)\n",
    "target = 'satisfied'\n",
    "y = df2[target]\n",
    "X = df2.drop(columns = target)\n",
    "\n",
    "# check\n",
    "print(f\"y:\\n{y}\")\n",
    "print(f\"X:\\n{X}\")"
   ]
  },
  {
   "cell_type": "code",
   "execution_count": null,
   "id": "d9d84b87",
   "metadata": {},
   "outputs": [],
   "source": [
    "# train/test split for model validation\n",
    "X_train, X_test, y_train, y_test = train_test_split(X, y, random_state = 42)\n",
    "\n",
    "# check\n",
    "print(f\"shape of X_train: {X_train.shape}\")\n",
    "print(f\"shape of X_test: {X_test.shape}\")\n",
    "print(f\"shape of y_train: {y_train.shape}\")\n",
    "print(f\"shape of y_test: {y_test.shape}\")"
   ]
  },
  {
   "cell_type": "markdown",
   "id": "8a695c02",
   "metadata": {},
   "source": [
    "## 3.3 Data is prepared for PCA without data leakage (0.5)"
   ]
  },
  {
   "cell_type": "markdown",
   "id": "8f483a13",
   "metadata": {},
   "source": [
    "## 3.4 PCA is performed without data leakage (1)"
   ]
  },
  {
   "cell_type": "markdown",
   "id": "c53998fb",
   "metadata": {},
   "source": [
    "## 3.5 Sequential deep learning model 1 is created and fit on data (1)"
   ]
  },
  {
   "cell_type": "markdown",
   "id": "8d57137b",
   "metadata": {},
   "source": [
    "## 3.6 Reasons for changes between models 1 and 2 are explained in text (0.25)"
   ]
  },
  {
   "cell_type": "markdown",
   "id": "a4cf8e1d",
   "metadata": {},
   "source": [
    "## 3.7 Sequential deep learning model 2 is created and fit on data (0.5)"
   ]
  },
  {
   "cell_type": "markdown",
   "id": "06e2a72f",
   "metadata": {},
   "source": [
    "## 3.8 Reasons for changes between models 2 and 3 are explained in text (0.25)"
   ]
  },
  {
   "cell_type": "markdown",
   "id": "7d7baf4a",
   "metadata": {},
   "source": [
    "## 3.9 Sequential deep learning model 3 is created and fit on data (0.25)"
   ]
  },
  {
   "cell_type": "markdown",
   "id": "006dcd80",
   "metadata": {},
   "source": [
    "## 3.10 Regularization is used with at least 1 model (0.5)"
   ]
  },
  {
   "cell_type": "markdown",
   "id": "1a378bf6",
   "metadata": {},
   "source": [
    "## 3.11 Each model's final layer is appropriate to the prediction type (1)"
   ]
  },
  {
   "cell_type": "markdown",
   "id": "5fc21346",
   "metadata": {},
   "source": [
    "## 3.12 Model loss function is appropriate to prediction type (1)"
   ]
  },
  {
   "cell_type": "markdown",
   "id": "13ac1182",
   "metadata": {},
   "source": [
    "## 3.13 Final model is chosen (0.5)"
   ]
  },
  {
   "cell_type": "markdown",
   "id": "af1d9dbb",
   "metadata": {},
   "source": [
    "## 3.14 Final model choice is justified in text (0.25)"
   ]
  },
  {
   "cell_type": "markdown",
   "id": "9821701d",
   "metadata": {},
   "source": [
    "## 3.15 Evaluates final model with multiple appropriate metrics (0.25)"
   ]
  },
  {
   "cell_type": "markdown",
   "id": "eb620fe2",
   "metadata": {},
   "source": [
    "## 3.16 Summary relates final model performance to business problem (0.5)"
   ]
  },
  {
   "cell_type": "markdown",
   "id": "c3259a59",
   "metadata": {},
   "source": [
    "# 4 Other (1.5)"
   ]
  },
  {
   "cell_type": "markdown",
   "id": "07b5c704",
   "metadata": {},
   "source": [
    "## 4.1 File requirements: Python code for part 1 (0.25)"
   ]
  },
  {
   "cell_type": "markdown",
   "id": "bf1b9c25",
   "metadata": {},
   "source": [
    "## 4.2 File requirements: Python code for part 2 (0.25)"
   ]
  },
  {
   "cell_type": "markdown",
   "id": "b90e2977",
   "metadata": {},
   "source": [
    "## 4.3 Code: Organization, structure, indentation, comments (0.25)"
   ]
  },
  {
   "cell_type": "markdown",
   "id": "2d4dc8c8",
   "metadata": {},
   "source": [
    "## 4.4 Code: Unnecessary code or errors in code (0.25)"
   ]
  },
  {
   "cell_type": "markdown",
   "id": "8d680944",
   "metadata": {},
   "source": [
    "## 4.5 Code: Unnecessary imports (0.25)"
   ]
  },
  {
   "cell_type": "markdown",
   "id": "ab0a603b",
   "metadata": {},
   "source": [
    "## 4.6 Code: Unnecessary files (0.25)"
   ]
  },
  {
   "cell_type": "markdown",
   "id": "0b45c9e5",
   "metadata": {},
   "source": [
    "# Total points"
   ]
  },
  {
   "cell_type": "code",
   "execution_count": 1,
   "id": "b3e4b42e",
   "metadata": {},
   "outputs": [
    {
     "data": {
      "text/plain": [
       "20.25"
      ]
     },
     "execution_count": 1,
     "metadata": {},
     "output_type": "execute_result"
    }
   ],
   "source": [
    "1.25 + 6.5 + 11 + 1.5"
   ]
  },
  {
   "cell_type": "code",
   "execution_count": null,
   "id": "516d29d1",
   "metadata": {},
   "outputs": [],
   "source": []
  }
 ],
 "metadata": {
  "kernelspec": {
   "display_name": "Python 3 (ipykernel)",
   "language": "python",
   "name": "python3"
  },
  "language_info": {
   "codemirror_mode": {
    "name": "ipython",
    "version": 3
   },
   "file_extension": ".py",
   "mimetype": "text/x-python",
   "name": "python",
   "nbconvert_exporter": "python",
   "pygments_lexer": "ipython3",
   "version": "3.10.9"
  }
 },
 "nbformat": 4,
 "nbformat_minor": 5
}
