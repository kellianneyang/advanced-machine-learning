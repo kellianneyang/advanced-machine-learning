{
 "cells": [
  {
   "cell_type": "markdown",
   "id": "f302f616",
   "metadata": {},
   "source": [
    "# **Analysis of KMeans Clusters**"
   ]
  },
  {
   "cell_type": "markdown",
   "id": "15eed2b6",
   "metadata": {},
   "source": [
    "Name: Kellianne Yang"
   ]
  },
  {
   "cell_type": "markdown",
   "id": "475a1669",
   "metadata": {},
   "source": [
    "# Task\n",
    "\n",
    "For this task, you will analyze the clusters you made in KMeans Exercise Part 1. \n",
    "\n",
    "Your stakeholder is a credit card company that wants to market new credit cards. They have asked you to segment their potential customers to determine how and what kind of cards they should market to each group.\n",
    "\n",
    "You can download the data here: https://assets.codingdojo.com/boomyeah2015/codingdojo/curriculum/content/chapter/cust_seg.csv\n",
    "\n",
    "The original data is from this data source: https://github.com/Nikhil-Adithyan/Customer-Segmentation-with-K-Means\n",
    "\n",
    "1. Make a copy of your code file from KMeans Exercise Part 1.\n",
    "2. Create analytical visualizations that explore statistics for each feature for each cluster.\n",
    "3. Write a description of each cluster, based on the visualizations you created. Do more than describe the numbers, try to see past the numbers and describe what kinds of people are represented by each cluster. Include at least one insight for each cluster.\n",
    "4. Create one or two recommendations for your stakeholders (the credit card company) regarding how they should market credit cards differently, or which cards they should market, to each cluster based on your data and insights.\n",
    "5. Submit your notebook below.\n"
   ]
  },
  {
   "cell_type": "markdown",
   "id": "7805d418",
   "metadata": {},
   "source": [
    "# Preliminary Steps"
   ]
  },
  {
   "cell_type": "code",
   "execution_count": 1,
   "id": "385a888c",
   "metadata": {},
   "outputs": [],
   "source": [
    "# import libraries\n",
    "import pandas as pd\n",
    "import numpy as np\n",
    "import matplotlib.pyplot as plt\n",
    "from sklearn.preprocessing import StandardScaler\n",
    "from sklearn.cluster import KMeans\n",
    "from sklearn.metrics import silhouette_score\n",
    "from sklearn.impute import SimpleImputer\n",
    "from sklearn.pipeline import make_pipeline\n",
    "from sklearn.compose import make_column_transformer"
   ]
  },
  {
   "cell_type": "code",
   "execution_count": 2,
   "id": "d79a7252",
   "metadata": {},
   "outputs": [
    {
     "name": "stdout",
     "output_type": "stream",
     "text": [
      "Requirement already satisfied: kneed in c:\\users\\yang0108\\appdata\\local\\anaconda3\\envs\\dojo-env\\lib\\site-packages (0.8.2)\n",
      "Requirement already satisfied: scipy>=1.0.0 in c:\\users\\yang0108\\appdata\\local\\anaconda3\\envs\\dojo-env\\lib\\site-packages (from kneed) (1.9.3)\n",
      "Requirement already satisfied: numpy>=1.14.2 in c:\\users\\yang0108\\appdata\\local\\anaconda3\\envs\\dojo-env\\lib\\site-packages (from kneed) (1.23.4)\n"
     ]
    }
   ],
   "source": [
    "!pip install kneed\n",
    "from kneed import KneeLocator"
   ]
  },
  {
   "cell_type": "code",
   "execution_count": 3,
   "id": "269a81a9",
   "metadata": {},
   "outputs": [],
   "source": [
    "# load data\n",
    "path = 'Data/cust_seg.csv'\n",
    "df = pd.read_csv(path, index_col = 0)"
   ]
  },
  {
   "cell_type": "code",
   "execution_count": 4,
   "id": "bb860eba",
   "metadata": {},
   "outputs": [
    {
     "name": "stdout",
     "output_type": "stream",
     "text": [
      "<class 'pandas.core.frame.DataFrame'>\n",
      "Int64Index: 850 entries, 0 to 849\n",
      "Data columns (total 9 columns):\n",
      " #   Column           Non-Null Count  Dtype  \n",
      "---  ------           --------------  -----  \n",
      " 0   Customer Id      850 non-null    int64  \n",
      " 1   Age              850 non-null    int64  \n",
      " 2   Edu              850 non-null    int64  \n",
      " 3   Years Employed   850 non-null    int64  \n",
      " 4   Income           850 non-null    int64  \n",
      " 5   Card Debt        850 non-null    float64\n",
      " 6   Other Debt       850 non-null    float64\n",
      " 7   Defaulted        700 non-null    float64\n",
      " 8   DebtIncomeRatio  850 non-null    float64\n",
      "dtypes: float64(4), int64(5)\n",
      "memory usage: 66.4 KB\n"
     ]
    },
    {
     "data": {
      "text/html": [
       "<div>\n",
       "<style scoped>\n",
       "    .dataframe tbody tr th:only-of-type {\n",
       "        vertical-align: middle;\n",
       "    }\n",
       "\n",
       "    .dataframe tbody tr th {\n",
       "        vertical-align: top;\n",
       "    }\n",
       "\n",
       "    .dataframe thead th {\n",
       "        text-align: right;\n",
       "    }\n",
       "</style>\n",
       "<table border=\"1\" class=\"dataframe\">\n",
       "  <thead>\n",
       "    <tr style=\"text-align: right;\">\n",
       "      <th></th>\n",
       "      <th>Customer Id</th>\n",
       "      <th>Age</th>\n",
       "      <th>Edu</th>\n",
       "      <th>Years Employed</th>\n",
       "      <th>Income</th>\n",
       "      <th>Card Debt</th>\n",
       "      <th>Other Debt</th>\n",
       "      <th>Defaulted</th>\n",
       "      <th>DebtIncomeRatio</th>\n",
       "    </tr>\n",
       "  </thead>\n",
       "  <tbody>\n",
       "    <tr>\n",
       "      <th>2</th>\n",
       "      <td>3</td>\n",
       "      <td>33</td>\n",
       "      <td>2</td>\n",
       "      <td>10</td>\n",
       "      <td>57</td>\n",
       "      <td>6.111</td>\n",
       "      <td>5.802</td>\n",
       "      <td>1.0</td>\n",
       "      <td>20.9</td>\n",
       "    </tr>\n",
       "    <tr>\n",
       "      <th>746</th>\n",
       "      <td>747</td>\n",
       "      <td>44</td>\n",
       "      <td>2</td>\n",
       "      <td>17</td>\n",
       "      <td>129</td>\n",
       "      <td>0.551</td>\n",
       "      <td>2.674</td>\n",
       "      <td>0.0</td>\n",
       "      <td>2.5</td>\n",
       "    </tr>\n",
       "    <tr>\n",
       "      <th>428</th>\n",
       "      <td>429</td>\n",
       "      <td>35</td>\n",
       "      <td>3</td>\n",
       "      <td>7</td>\n",
       "      <td>38</td>\n",
       "      <td>1.383</td>\n",
       "      <td>4.355</td>\n",
       "      <td>0.0</td>\n",
       "      <td>15.1</td>\n",
       "    </tr>\n",
       "    <tr>\n",
       "      <th>647</th>\n",
       "      <td>648</td>\n",
       "      <td>29</td>\n",
       "      <td>2</td>\n",
       "      <td>0</td>\n",
       "      <td>22</td>\n",
       "      <td>1.039</td>\n",
       "      <td>1.799</td>\n",
       "      <td>1.0</td>\n",
       "      <td>12.9</td>\n",
       "    </tr>\n",
       "    <tr>\n",
       "      <th>408</th>\n",
       "      <td>409</td>\n",
       "      <td>31</td>\n",
       "      <td>4</td>\n",
       "      <td>7</td>\n",
       "      <td>97</td>\n",
       "      <td>1.827</td>\n",
       "      <td>3.993</td>\n",
       "      <td>NaN</td>\n",
       "      <td>6.0</td>\n",
       "    </tr>\n",
       "    <tr>\n",
       "      <th>795</th>\n",
       "      <td>796</td>\n",
       "      <td>38</td>\n",
       "      <td>3</td>\n",
       "      <td>3</td>\n",
       "      <td>25</td>\n",
       "      <td>0.312</td>\n",
       "      <td>0.613</td>\n",
       "      <td>0.0</td>\n",
       "      <td>3.7</td>\n",
       "    </tr>\n",
       "    <tr>\n",
       "      <th>804</th>\n",
       "      <td>805</td>\n",
       "      <td>30</td>\n",
       "      <td>1</td>\n",
       "      <td>12</td>\n",
       "      <td>38</td>\n",
       "      <td>0.171</td>\n",
       "      <td>3.059</td>\n",
       "      <td>0.0</td>\n",
       "      <td>8.5</td>\n",
       "    </tr>\n",
       "    <tr>\n",
       "      <th>666</th>\n",
       "      <td>667</td>\n",
       "      <td>36</td>\n",
       "      <td>1</td>\n",
       "      <td>14</td>\n",
       "      <td>81</td>\n",
       "      <td>1.785</td>\n",
       "      <td>4.047</td>\n",
       "      <td>0.0</td>\n",
       "      <td>7.2</td>\n",
       "    </tr>\n",
       "    <tr>\n",
       "      <th>139</th>\n",
       "      <td>140</td>\n",
       "      <td>40</td>\n",
       "      <td>2</td>\n",
       "      <td>5</td>\n",
       "      <td>35</td>\n",
       "      <td>1.584</td>\n",
       "      <td>4.156</td>\n",
       "      <td>1.0</td>\n",
       "      <td>16.4</td>\n",
       "    </tr>\n",
       "    <tr>\n",
       "      <th>542</th>\n",
       "      <td>543</td>\n",
       "      <td>27</td>\n",
       "      <td>3</td>\n",
       "      <td>4</td>\n",
       "      <td>40</td>\n",
       "      <td>0.284</td>\n",
       "      <td>0.956</td>\n",
       "      <td>1.0</td>\n",
       "      <td>3.1</td>\n",
       "    </tr>\n",
       "  </tbody>\n",
       "</table>\n",
       "</div>"
      ],
      "text/plain": [
       "     Customer Id  Age  Edu  Years Employed  Income  Card Debt  Other Debt  \\\n",
       "2              3   33    2              10      57      6.111       5.802   \n",
       "746          747   44    2              17     129      0.551       2.674   \n",
       "428          429   35    3               7      38      1.383       4.355   \n",
       "647          648   29    2               0      22      1.039       1.799   \n",
       "408          409   31    4               7      97      1.827       3.993   \n",
       "795          796   38    3               3      25      0.312       0.613   \n",
       "804          805   30    1              12      38      0.171       3.059   \n",
       "666          667   36    1              14      81      1.785       4.047   \n",
       "139          140   40    2               5      35      1.584       4.156   \n",
       "542          543   27    3               4      40      0.284       0.956   \n",
       "\n",
       "     Defaulted  DebtIncomeRatio  \n",
       "2          1.0             20.9  \n",
       "746        0.0              2.5  \n",
       "428        0.0             15.1  \n",
       "647        1.0             12.9  \n",
       "408        NaN              6.0  \n",
       "795        0.0              3.7  \n",
       "804        0.0              8.5  \n",
       "666        0.0              7.2  \n",
       "139        1.0             16.4  \n",
       "542        1.0              3.1  "
      ]
     },
     "execution_count": 4,
     "metadata": {},
     "output_type": "execute_result"
    }
   ],
   "source": [
    "# inspect\n",
    "df.info()\n",
    "df.sample(10)"
   ]
  },
  {
   "cell_type": "code",
   "execution_count": 5,
   "id": "eed80617",
   "metadata": {},
   "outputs": [
    {
     "data": {
      "text/plain": [
       "Index(['Age', 'Edu', 'Years Employed', 'Income', 'Card Debt', 'Other Debt',\n",
       "       'Defaulted', 'DebtIncomeRatio'],\n",
       "      dtype='object')"
      ]
     },
     "execution_count": 5,
     "metadata": {},
     "output_type": "execute_result"
    }
   ],
   "source": [
    "# delete column(s) that should not factor into clusters\n",
    "df.drop(columns = 'Customer Id', inplace = True)\n",
    "\n",
    "# check\n",
    "df.columns"
   ]
  },
  {
   "cell_type": "code",
   "execution_count": 6,
   "id": "405bc6af",
   "metadata": {},
   "outputs": [
    {
     "data": {
      "text/html": [
       "<div>\n",
       "<style scoped>\n",
       "    .dataframe tbody tr th:only-of-type {\n",
       "        vertical-align: middle;\n",
       "    }\n",
       "\n",
       "    .dataframe tbody tr th {\n",
       "        vertical-align: top;\n",
       "    }\n",
       "\n",
       "    .dataframe thead th {\n",
       "        text-align: right;\n",
       "    }\n",
       "</style>\n",
       "<table border=\"1\" class=\"dataframe\">\n",
       "  <thead>\n",
       "    <tr style=\"text-align: right;\">\n",
       "      <th></th>\n",
       "      <th>Age</th>\n",
       "      <th>Edu</th>\n",
       "      <th>Years Employed</th>\n",
       "      <th>Income</th>\n",
       "      <th>Card Debt</th>\n",
       "      <th>Other Debt</th>\n",
       "      <th>Defaulted</th>\n",
       "      <th>DebtIncomeRatio</th>\n",
       "    </tr>\n",
       "  </thead>\n",
       "  <tbody>\n",
       "    <tr>\n",
       "      <th>count</th>\n",
       "      <td>850.000000</td>\n",
       "      <td>850.000000</td>\n",
       "      <td>850.000000</td>\n",
       "      <td>850.000000</td>\n",
       "      <td>850.000000</td>\n",
       "      <td>850.000000</td>\n",
       "      <td>700.000000</td>\n",
       "      <td>850.000000</td>\n",
       "    </tr>\n",
       "    <tr>\n",
       "      <th>mean</th>\n",
       "      <td>35.029412</td>\n",
       "      <td>1.710588</td>\n",
       "      <td>8.565882</td>\n",
       "      <td>46.675294</td>\n",
       "      <td>1.576820</td>\n",
       "      <td>3.078773</td>\n",
       "      <td>0.261429</td>\n",
       "      <td>10.171647</td>\n",
       "    </tr>\n",
       "    <tr>\n",
       "      <th>std</th>\n",
       "      <td>8.041432</td>\n",
       "      <td>0.927784</td>\n",
       "      <td>6.777884</td>\n",
       "      <td>38.543054</td>\n",
       "      <td>2.125843</td>\n",
       "      <td>3.398799</td>\n",
       "      <td>0.439727</td>\n",
       "      <td>6.719441</td>\n",
       "    </tr>\n",
       "    <tr>\n",
       "      <th>min</th>\n",
       "      <td>20.000000</td>\n",
       "      <td>1.000000</td>\n",
       "      <td>0.000000</td>\n",
       "      <td>13.000000</td>\n",
       "      <td>0.012000</td>\n",
       "      <td>0.046000</td>\n",
       "      <td>0.000000</td>\n",
       "      <td>0.100000</td>\n",
       "    </tr>\n",
       "    <tr>\n",
       "      <th>25%</th>\n",
       "      <td>29.000000</td>\n",
       "      <td>1.000000</td>\n",
       "      <td>3.000000</td>\n",
       "      <td>24.000000</td>\n",
       "      <td>0.382500</td>\n",
       "      <td>1.045750</td>\n",
       "      <td>0.000000</td>\n",
       "      <td>5.100000</td>\n",
       "    </tr>\n",
       "    <tr>\n",
       "      <th>50%</th>\n",
       "      <td>34.000000</td>\n",
       "      <td>1.000000</td>\n",
       "      <td>7.000000</td>\n",
       "      <td>35.000000</td>\n",
       "      <td>0.885000</td>\n",
       "      <td>2.003000</td>\n",
       "      <td>0.000000</td>\n",
       "      <td>8.700000</td>\n",
       "    </tr>\n",
       "    <tr>\n",
       "      <th>75%</th>\n",
       "      <td>41.000000</td>\n",
       "      <td>2.000000</td>\n",
       "      <td>13.000000</td>\n",
       "      <td>55.750000</td>\n",
       "      <td>1.898500</td>\n",
       "      <td>3.903250</td>\n",
       "      <td>1.000000</td>\n",
       "      <td>13.800000</td>\n",
       "    </tr>\n",
       "    <tr>\n",
       "      <th>max</th>\n",
       "      <td>56.000000</td>\n",
       "      <td>5.000000</td>\n",
       "      <td>33.000000</td>\n",
       "      <td>446.000000</td>\n",
       "      <td>20.561000</td>\n",
       "      <td>35.197000</td>\n",
       "      <td>1.000000</td>\n",
       "      <td>41.300000</td>\n",
       "    </tr>\n",
       "  </tbody>\n",
       "</table>\n",
       "</div>"
      ],
      "text/plain": [
       "              Age         Edu  Years Employed      Income   Card Debt  \\\n",
       "count  850.000000  850.000000      850.000000  850.000000  850.000000   \n",
       "mean    35.029412    1.710588        8.565882   46.675294    1.576820   \n",
       "std      8.041432    0.927784        6.777884   38.543054    2.125843   \n",
       "min     20.000000    1.000000        0.000000   13.000000    0.012000   \n",
       "25%     29.000000    1.000000        3.000000   24.000000    0.382500   \n",
       "50%     34.000000    1.000000        7.000000   35.000000    0.885000   \n",
       "75%     41.000000    2.000000       13.000000   55.750000    1.898500   \n",
       "max     56.000000    5.000000       33.000000  446.000000   20.561000   \n",
       "\n",
       "       Other Debt   Defaulted  DebtIncomeRatio  \n",
       "count  850.000000  700.000000       850.000000  \n",
       "mean     3.078773    0.261429        10.171647  \n",
       "std      3.398799    0.439727         6.719441  \n",
       "min      0.046000    0.000000         0.100000  \n",
       "25%      1.045750    0.000000         5.100000  \n",
       "50%      2.003000    0.000000         8.700000  \n",
       "75%      3.903250    1.000000        13.800000  \n",
       "max     35.197000    1.000000        41.300000  "
      ]
     },
     "execution_count": 6,
     "metadata": {},
     "output_type": "execute_result"
    }
   ],
   "source": [
    "# check for impossible numeric values\n",
    "df.describe()"
   ]
  },
  {
   "cell_type": "code",
   "execution_count": 7,
   "id": "ecb02b3e",
   "metadata": {},
   "outputs": [
    {
     "data": {
      "text/plain": [
       "0"
      ]
     },
     "execution_count": 7,
     "metadata": {},
     "output_type": "execute_result"
    }
   ],
   "source": [
    "# check for duplicates\n",
    "df.duplicated().sum()"
   ]
  },
  {
   "cell_type": "code",
   "execution_count": 8,
   "id": "630871e2",
   "metadata": {},
   "outputs": [
    {
     "data": {
      "text/plain": [
       "Age                  0\n",
       "Edu                  0\n",
       "Years Employed       0\n",
       "Income               0\n",
       "Card Debt            0\n",
       "Other Debt           0\n",
       "Defaulted          150\n",
       "DebtIncomeRatio      0\n",
       "dtype: int64"
      ]
     },
     "execution_count": 8,
     "metadata": {},
     "output_type": "execute_result"
    }
   ],
   "source": [
    "# check for missing values\n",
    "df.isna().sum()"
   ]
  },
  {
   "cell_type": "code",
   "execution_count": 9,
   "id": "6252dedc",
   "metadata": {},
   "outputs": [
    {
     "data": {
      "text/plain": [
       "0.0    517\n",
       "1.0    183\n",
       "Name: Defaulted, dtype: int64"
      ]
     },
     "execution_count": 9,
     "metadata": {},
     "output_type": "execute_result"
    }
   ],
   "source": [
    "# fill missing values in 'Defaulted' column\n",
    "df['Defaulted'].value_counts()"
   ]
  },
  {
   "cell_type": "code",
   "execution_count": 10,
   "id": "a50d8699",
   "metadata": {},
   "outputs": [
    {
     "data": {
      "text/plain": [
       "Age                0\n",
       "Edu                0\n",
       "Years Employed     0\n",
       "Income             0\n",
       "Card Debt          0\n",
       "Other Debt         0\n",
       "Defaulted          0\n",
       "DebtIncomeRatio    0\n",
       "dtype: int64"
      ]
     },
     "execution_count": 10,
     "metadata": {},
     "output_type": "execute_result"
    }
   ],
   "source": [
    "# most people have not defaulted, so I will fill the missing values with 0\n",
    "df.fillna(value = df['Defaulted'].mode()[0], inplace = True)\n",
    "\n",
    "# check\n",
    "df.isna().sum()"
   ]
  },
  {
   "cell_type": "code",
   "execution_count": 11,
   "id": "25c5bb8f",
   "metadata": {},
   "outputs": [
    {
     "data": {
      "text/plain": [
       "array([[ 0.74291541,  0.31212243, -0.37878978, -0.71845859, -0.68381116,\n",
       "        -0.59048916, -0.52379654, -0.57652509],\n",
       "       [ 1.48949049, -0.76634938,  2.5737211 ,  1.38432469,  1.41447366,\n",
       "         1.51296181, -0.52379654,  0.39138677],\n",
       "       [-0.25251804,  0.31212243,  0.2117124 ,  0.26803233,  2.13414111,\n",
       "         0.80170393,  1.90913822,  1.59755385],\n",
       "       [-0.75023477,  0.31212243, -0.67404087, -0.71845859, -0.42164323,\n",
       "        -0.75446707, -0.52379654, -0.57652509],\n",
       "       [ 1.48949049, -0.76634938,  3.31184882,  5.35624866,  3.63890032,\n",
       "         1.71609424, -0.52379654, -0.44250653]])"
      ]
     },
     "execution_count": 11,
     "metadata": {},
     "output_type": "execute_result"
    }
   ],
   "source": [
    "# fit and transform data with scaler\n",
    "scaled_data = StandardScaler().fit_transform(df)\n",
    "\n",
    "# check\n",
    "scaled_data[:5]"
   ]
  },
  {
   "cell_type": "markdown",
   "id": "1b4969b4",
   "metadata": {},
   "source": [
    "# Inertia plot to find number of clusters"
   ]
  },
  {
   "cell_type": "code",
   "execution_count": 12,
   "id": "8f20866f",
   "metadata": {},
   "outputs": [
    {
     "name": "stderr",
     "output_type": "stream",
     "text": [
      "C:\\Users\\yang0108\\AppData\\Local\\anaconda3\\envs\\dojo-env\\lib\\site-packages\\sklearn\\cluster\\_kmeans.py:1334: UserWarning: KMeans is known to have a memory leak on Windows with MKL, when there are less chunks than available threads. You can avoid it by setting the environment variable OMP_NUM_THREADS=4.\n",
      "  warnings.warn(\n",
      "C:\\Users\\yang0108\\AppData\\Local\\anaconda3\\envs\\dojo-env\\lib\\site-packages\\sklearn\\cluster\\_kmeans.py:1334: UserWarning: KMeans is known to have a memory leak on Windows with MKL, when there are less chunks than available threads. You can avoid it by setting the environment variable OMP_NUM_THREADS=4.\n",
      "  warnings.warn(\n",
      "C:\\Users\\yang0108\\AppData\\Local\\anaconda3\\envs\\dojo-env\\lib\\site-packages\\sklearn\\cluster\\_kmeans.py:1334: UserWarning: KMeans is known to have a memory leak on Windows with MKL, when there are less chunks than available threads. You can avoid it by setting the environment variable OMP_NUM_THREADS=4.\n",
      "  warnings.warn(\n",
      "C:\\Users\\yang0108\\AppData\\Local\\anaconda3\\envs\\dojo-env\\lib\\site-packages\\sklearn\\cluster\\_kmeans.py:1334: UserWarning: KMeans is known to have a memory leak on Windows with MKL, when there are less chunks than available threads. You can avoid it by setting the environment variable OMP_NUM_THREADS=4.\n",
      "  warnings.warn(\n",
      "C:\\Users\\yang0108\\AppData\\Local\\anaconda3\\envs\\dojo-env\\lib\\site-packages\\sklearn\\cluster\\_kmeans.py:1334: UserWarning: KMeans is known to have a memory leak on Windows with MKL, when there are less chunks than available threads. You can avoid it by setting the environment variable OMP_NUM_THREADS=4.\n",
      "  warnings.warn(\n",
      "C:\\Users\\yang0108\\AppData\\Local\\anaconda3\\envs\\dojo-env\\lib\\site-packages\\sklearn\\cluster\\_kmeans.py:1334: UserWarning: KMeans is known to have a memory leak on Windows with MKL, when there are less chunks than available threads. You can avoid it by setting the environment variable OMP_NUM_THREADS=4.\n",
      "  warnings.warn(\n",
      "C:\\Users\\yang0108\\AppData\\Local\\anaconda3\\envs\\dojo-env\\lib\\site-packages\\sklearn\\cluster\\_kmeans.py:1334: UserWarning: KMeans is known to have a memory leak on Windows with MKL, when there are less chunks than available threads. You can avoid it by setting the environment variable OMP_NUM_THREADS=4.\n",
      "  warnings.warn(\n",
      "C:\\Users\\yang0108\\AppData\\Local\\anaconda3\\envs\\dojo-env\\lib\\site-packages\\sklearn\\cluster\\_kmeans.py:1334: UserWarning: KMeans is known to have a memory leak on Windows with MKL, when there are less chunks than available threads. You can avoid it by setting the environment variable OMP_NUM_THREADS=4.\n",
      "  warnings.warn(\n",
      "C:\\Users\\yang0108\\AppData\\Local\\anaconda3\\envs\\dojo-env\\lib\\site-packages\\sklearn\\cluster\\_kmeans.py:1334: UserWarning: KMeans is known to have a memory leak on Windows with MKL, when there are less chunks than available threads. You can avoid it by setting the environment variable OMP_NUM_THREADS=4.\n",
      "  warnings.warn(\n"
     ]
    },
    {
     "data": {
      "text/plain": [
       "Text(0, 0.5, 'inertia')"
      ]
     },
     "execution_count": 12,
     "metadata": {},
     "output_type": "execute_result"
    },
    {
     "data": {
      "image/png": "[encoded data removed]",
      "text/plain": [
       "<Figure size 640x480 with 1 Axes>"
      ]
     },
     "metadata": {},
     "output_type": "display_data"
    }
   ],
   "source": [
    "# create list for inertias\n",
    "inertias = []\n",
    "\n",
    "# loop through k values 2-10 and store inertias in list\n",
    "for k in range(2, 11):\n",
    "  kmeans = KMeans(n_clusters = k, random_state = 42)\n",
    "  kmeans.fit(scaled_data)\n",
    "  inertias.append(kmeans.inertia_)\n",
    "\n",
    "# visualize elbow plot of inertias\n",
    "plt.plot(range(2,11), inertias, marker = '.')\n",
    "plt.xlabel('clusters')\n",
    "plt.ylabel('inertia')"
   ]
  },
  {
   "cell_type": "code",
   "execution_count": 13,
   "id": "294bf08b",
   "metadata": {},
   "outputs": [
    {
     "data": {
      "image/png": "[encoded data removed]",
      "text/plain": [
       "<Figure size 640x480 with 1 Axes>"
      ]
     },
     "metadata": {},
     "output_type": "display_data"
    },
    {
     "name": "stdout",
     "output_type": "stream",
     "text": [
      "Knee point: 5\n"
     ]
    }
   ],
   "source": [
    "# calculate elbow (knee) point for decreasing convex function\n",
    "\n",
    "# find the knee point using the KneeLocator function\n",
    "knee_locator = KneeLocator(range(2, 11), \n",
    "                           inertias, \n",
    "                           curve = 'convex', \n",
    "                           direction = 'decreasing',\n",
    "                           interp_method = 'polynomial')\n",
    "knee = knee_locator.knee\n",
    "\n",
    "# plot the data and knee point\n",
    "plt.plot(range(2, 11), inertias, marker = '.')\n",
    "plt.axvline(x = knee, color = 'red')\n",
    "plt.xlabel('clusters')\n",
    "plt.ylabel('inertia')\n",
    "plt.xticks(range(2, 11))\n",
    "plt.show()\n",
    "\n",
    "print('Knee point:', knee)"
   ]
  },
  {
   "cell_type": "markdown",
   "id": "19a0b33c",
   "metadata": {},
   "source": [
    "The inertia plot indicates that 5 would be a good possible number of clusters for this data."
   ]
  },
  {
   "cell_type": "markdown",
   "id": "78e0d135",
   "metadata": {},
   "source": [
    "# Silhouette score plot to find number of clusters"
   ]
  },
  {
   "cell_type": "code",
   "execution_count": 14,
   "id": "4571fe11",
   "metadata": {},
   "outputs": [
    {
     "name": "stderr",
     "output_type": "stream",
     "text": [
      "C:\\Users\\yang0108\\AppData\\Local\\anaconda3\\envs\\dojo-env\\lib\\site-packages\\sklearn\\cluster\\_kmeans.py:1334: UserWarning: KMeans is known to have a memory leak on Windows with MKL, when there are less chunks than available threads. You can avoid it by setting the environment variable OMP_NUM_THREADS=4.\n",
      "  warnings.warn(\n",
      "C:\\Users\\yang0108\\AppData\\Local\\anaconda3\\envs\\dojo-env\\lib\\site-packages\\sklearn\\cluster\\_kmeans.py:1334: UserWarning: KMeans is known to have a memory leak on Windows with MKL, when there are less chunks than available threads. You can avoid it by setting the environment variable OMP_NUM_THREADS=4.\n",
      "  warnings.warn(\n",
      "C:\\Users\\yang0108\\AppData\\Local\\anaconda3\\envs\\dojo-env\\lib\\site-packages\\sklearn\\cluster\\_kmeans.py:1334: UserWarning: KMeans is known to have a memory leak on Windows with MKL, when there are less chunks than available threads. You can avoid it by setting the environment variable OMP_NUM_THREADS=4.\n",
      "  warnings.warn(\n",
      "C:\\Users\\yang0108\\AppData\\Local\\anaconda3\\envs\\dojo-env\\lib\\site-packages\\sklearn\\cluster\\_kmeans.py:1334: UserWarning: KMeans is known to have a memory leak on Windows with MKL, when there are less chunks than available threads. You can avoid it by setting the environment variable OMP_NUM_THREADS=4.\n",
      "  warnings.warn(\n",
      "C:\\Users\\yang0108\\AppData\\Local\\anaconda3\\envs\\dojo-env\\lib\\site-packages\\sklearn\\cluster\\_kmeans.py:1334: UserWarning: KMeans is known to have a memory leak on Windows with MKL, when there are less chunks than available threads. You can avoid it by setting the environment variable OMP_NUM_THREADS=4.\n",
      "  warnings.warn(\n",
      "C:\\Users\\yang0108\\AppData\\Local\\anaconda3\\envs\\dojo-env\\lib\\site-packages\\sklearn\\cluster\\_kmeans.py:1334: UserWarning: KMeans is known to have a memory leak on Windows with MKL, when there are less chunks than available threads. You can avoid it by setting the environment variable OMP_NUM_THREADS=4.\n",
      "  warnings.warn(\n",
      "C:\\Users\\yang0108\\AppData\\Local\\anaconda3\\envs\\dojo-env\\lib\\site-packages\\sklearn\\cluster\\_kmeans.py:1334: UserWarning: KMeans is known to have a memory leak on Windows with MKL, when there are less chunks than available threads. You can avoid it by setting the environment variable OMP_NUM_THREADS=4.\n",
      "  warnings.warn(\n",
      "C:\\Users\\yang0108\\AppData\\Local\\anaconda3\\envs\\dojo-env\\lib\\site-packages\\sklearn\\cluster\\_kmeans.py:1334: UserWarning: KMeans is known to have a memory leak on Windows with MKL, when there are less chunks than available threads. You can avoid it by setting the environment variable OMP_NUM_THREADS=4.\n",
      "  warnings.warn(\n",
      "C:\\Users\\yang0108\\AppData\\Local\\anaconda3\\envs\\dojo-env\\lib\\site-packages\\sklearn\\cluster\\_kmeans.py:1334: UserWarning: KMeans is known to have a memory leak on Windows with MKL, when there are less chunks than available threads. You can avoid it by setting the environment variable OMP_NUM_THREADS=4.\n",
      "  warnings.warn(\n"
     ]
    },
    {
     "data": {
      "image/png": "[encoded data removed]",
      "text/plain": [
       "<Figure size 640x480 with 1 Axes>"
      ]
     },
     "metadata": {},
     "output_type": "display_data"
    }
   ],
   "source": [
    "# create list for silhouette scores\n",
    "silhouette_scores = []\n",
    "\n",
    "for k in range(2, 11):\n",
    "  kmeans = KMeans(n_clusters = k, random_state = 42)\n",
    "  kmeans.fit(scaled_data)\n",
    "  silhouette_scores.append(silhouette_score(scaled_data, kmeans.labels_))\n",
    "\n",
    "# visualize silhouette_scores\n",
    "plt.plot(range(2, 11), \n",
    "         silhouette_scores, \n",
    "         marker = '.')\n",
    "plt.xlabel('clusters')\n",
    "plt.ylabel('silhouette score')\n",
    "plt.xticks(range(2, 11))\n",
    "plt.show();"
   ]
  },
  {
   "cell_type": "code",
   "execution_count": 15,
   "id": "48438022",
   "metadata": {},
   "outputs": [
    {
     "data": {
      "text/html": [
       "<div>\n",
       "<style scoped>\n",
       "    .dataframe tbody tr th:only-of-type {\n",
       "        vertical-align: middle;\n",
       "    }\n",
       "\n",
       "    .dataframe tbody tr th {\n",
       "        vertical-align: top;\n",
       "    }\n",
       "\n",
       "    .dataframe thead th {\n",
       "        text-align: right;\n",
       "    }\n",
       "</style>\n",
       "<table border=\"1\" class=\"dataframe\">\n",
       "  <thead>\n",
       "    <tr style=\"text-align: right;\">\n",
       "      <th></th>\n",
       "      <th>silhouette_score</th>\n",
       "      <th>clusters</th>\n",
       "    </tr>\n",
       "  </thead>\n",
       "  <tbody>\n",
       "    <tr>\n",
       "      <th>0</th>\n",
       "      <td>0.340117</td>\n",
       "      <td>2</td>\n",
       "    </tr>\n",
       "    <tr>\n",
       "      <th>1</th>\n",
       "      <td>0.287387</td>\n",
       "      <td>3</td>\n",
       "    </tr>\n",
       "    <tr>\n",
       "      <th>2</th>\n",
       "      <td>0.253074</td>\n",
       "      <td>4</td>\n",
       "    </tr>\n",
       "    <tr>\n",
       "      <th>3</th>\n",
       "      <td>0.249648</td>\n",
       "      <td>5</td>\n",
       "    </tr>\n",
       "    <tr>\n",
       "      <th>4</th>\n",
       "      <td>0.243115</td>\n",
       "      <td>6</td>\n",
       "    </tr>\n",
       "  </tbody>\n",
       "</table>\n",
       "</div>"
      ],
      "text/plain": [
       "   silhouette_score  clusters\n",
       "0          0.340117         2\n",
       "1          0.287387         3\n",
       "2          0.253074         4\n",
       "3          0.249648         5\n",
       "4          0.243115         6"
      ]
     },
     "execution_count": 15,
     "metadata": {},
     "output_type": "execute_result"
    }
   ],
   "source": [
    "# determine how many clusters produces the highest silhouette score in a table\n",
    "silhouette_df = pd.DataFrame()\n",
    "\n",
    "silhouette_df['silhouette_score'] = silhouette_scores\n",
    "silhouette_df['clusters'] = range(2, 11)\n",
    "\n",
    "silhouette_df.sort_values(by = 'silhouette_score', ascending = False).head()"
   ]
  },
  {
   "cell_type": "markdown",
   "id": "11711cd6",
   "metadata": {},
   "source": [
    "The silhouette scores plot indicates that 2 would be a good possible number of clusters for this data."
   ]
  },
  {
   "cell_type": "markdown",
   "id": "bd344729",
   "metadata": {},
   "source": [
    "# K decision"
   ]
  },
  {
   "cell_type": "markdown",
   "id": "49e99eef",
   "metadata": {},
   "source": [
    "The two plots, an elbow plot and a silhouette score plot, indicate different numbers of clusters to use for this data. The elbow plot indicates 5 clusters, although the elbow plot does not show a very distinct elbow. The silhouette scores indicate that 2 clusters should be used. \n",
    "\n",
    "Because the elbow plot does not have a very defined elbow, and the silhouette scores plot clearly indicates that 2 clusters has a much higher silhouette score than the other numbers of clusters, I will choose to continue with 2 clusters. For a more involved analysis, I would look at both 2 and 5 clusters, and maybe a few more similar numbers, as options. "
   ]
  },
  {
   "cell_type": "code",
   "execution_count": 16,
   "id": "3187c938",
   "metadata": {},
   "outputs": [
    {
     "name": "stderr",
     "output_type": "stream",
     "text": [
      "C:\\Users\\yang0108\\AppData\\Local\\anaconda3\\envs\\dojo-env\\lib\\site-packages\\sklearn\\cluster\\_kmeans.py:1334: UserWarning: KMeans is known to have a memory leak on Windows with MKL, when there are less chunks than available threads. You can avoid it by setting the environment variable OMP_NUM_THREADS=4.\n",
      "  warnings.warn(\n"
     ]
    },
    {
     "data": {
      "text/html": [
       "<div>\n",
       "<style scoped>\n",
       "    .dataframe tbody tr th:only-of-type {\n",
       "        vertical-align: middle;\n",
       "    }\n",
       "\n",
       "    .dataframe tbody tr th {\n",
       "        vertical-align: top;\n",
       "    }\n",
       "\n",
       "    .dataframe thead th {\n",
       "        text-align: right;\n",
       "    }\n",
       "</style>\n",
       "<table border=\"1\" class=\"dataframe\">\n",
       "  <thead>\n",
       "    <tr style=\"text-align: right;\">\n",
       "      <th></th>\n",
       "      <th>Age</th>\n",
       "      <th>Edu</th>\n",
       "      <th>Years Employed</th>\n",
       "      <th>Income</th>\n",
       "      <th>Card Debt</th>\n",
       "      <th>Other Debt</th>\n",
       "      <th>Defaulted</th>\n",
       "      <th>DebtIncomeRatio</th>\n",
       "      <th>cluster</th>\n",
       "    </tr>\n",
       "  </thead>\n",
       "  <tbody>\n",
       "    <tr>\n",
       "      <th>0</th>\n",
       "      <td>41</td>\n",
       "      <td>2</td>\n",
       "      <td>6</td>\n",
       "      <td>19</td>\n",
       "      <td>0.124</td>\n",
       "      <td>1.073</td>\n",
       "      <td>0.0</td>\n",
       "      <td>6.3</td>\n",
       "      <td>0</td>\n",
       "    </tr>\n",
       "    <tr>\n",
       "      <th>1</th>\n",
       "      <td>47</td>\n",
       "      <td>1</td>\n",
       "      <td>26</td>\n",
       "      <td>100</td>\n",
       "      <td>4.582</td>\n",
       "      <td>8.218</td>\n",
       "      <td>0.0</td>\n",
       "      <td>12.8</td>\n",
       "      <td>1</td>\n",
       "    </tr>\n",
       "    <tr>\n",
       "      <th>2</th>\n",
       "      <td>33</td>\n",
       "      <td>2</td>\n",
       "      <td>10</td>\n",
       "      <td>57</td>\n",
       "      <td>6.111</td>\n",
       "      <td>5.802</td>\n",
       "      <td>1.0</td>\n",
       "      <td>20.9</td>\n",
       "      <td>1</td>\n",
       "    </tr>\n",
       "    <tr>\n",
       "      <th>3</th>\n",
       "      <td>29</td>\n",
       "      <td>2</td>\n",
       "      <td>4</td>\n",
       "      <td>19</td>\n",
       "      <td>0.681</td>\n",
       "      <td>0.516</td>\n",
       "      <td>0.0</td>\n",
       "      <td>6.3</td>\n",
       "      <td>0</td>\n",
       "    </tr>\n",
       "    <tr>\n",
       "      <th>4</th>\n",
       "      <td>47</td>\n",
       "      <td>1</td>\n",
       "      <td>31</td>\n",
       "      <td>253</td>\n",
       "      <td>9.308</td>\n",
       "      <td>8.908</td>\n",
       "      <td>0.0</td>\n",
       "      <td>7.2</td>\n",
       "      <td>1</td>\n",
       "    </tr>\n",
       "  </tbody>\n",
       "</table>\n",
       "</div>"
      ],
      "text/plain": [
       "   Age  Edu  Years Employed  Income  Card Debt  Other Debt  Defaulted  \\\n",
       "0   41    2               6      19      0.124       1.073        0.0   \n",
       "1   47    1              26     100      4.582       8.218        0.0   \n",
       "2   33    2              10      57      6.111       5.802        1.0   \n",
       "3   29    2               4      19      0.681       0.516        0.0   \n",
       "4   47    1              31     253      9.308       8.908        0.0   \n",
       "\n",
       "   DebtIncomeRatio  cluster  \n",
       "0              6.3        0  \n",
       "1             12.8        1  \n",
       "2             20.9        1  \n",
       "3              6.3        0  \n",
       "4              7.2        1  "
      ]
     },
     "execution_count": 16,
     "metadata": {},
     "output_type": "execute_result"
    }
   ],
   "source": [
    "# make model with 2 clusters\n",
    "kmeans = KMeans(n_clusters = 2, random_state = 42)\n",
    "kmeans.fit(scaled_data)\n",
    "\n",
    "# add clusters as column in df\n",
    "df['cluster'] = kmeans.labels_\n",
    "\n",
    "# check\n",
    "df.head()"
   ]
  },
  {
   "cell_type": "markdown",
   "id": "040fe249",
   "metadata": {},
   "source": [
    "# Analytical Visualizations for Each Cluster\n",
    "\n",
    "Create analytical visualizations that explore statistics for each feature for each cluster."
   ]
  },
  {
   "cell_type": "code",
   "execution_count": 17,
   "id": "00e9bb5b",
   "metadata": {},
   "outputs": [
    {
     "data": {
      "text/html": [
       "<div>\n",
       "<style scoped>\n",
       "    .dataframe tbody tr th:only-of-type {\n",
       "        vertical-align: middle;\n",
       "    }\n",
       "\n",
       "    .dataframe tbody tr th {\n",
       "        vertical-align: top;\n",
       "    }\n",
       "\n",
       "    .dataframe thead th {\n",
       "        text-align: right;\n",
       "    }\n",
       "</style>\n",
       "<table border=\"1\" class=\"dataframe\">\n",
       "  <thead>\n",
       "    <tr style=\"text-align: right;\">\n",
       "      <th></th>\n",
       "      <th>cluster</th>\n",
       "      <th>Age</th>\n",
       "      <th>Edu</th>\n",
       "      <th>Years Employed</th>\n",
       "      <th>Income</th>\n",
       "      <th>Card Debt</th>\n",
       "      <th>Other Debt</th>\n",
       "      <th>Defaulted</th>\n",
       "      <th>DebtIncomeRatio</th>\n",
       "    </tr>\n",
       "  </thead>\n",
       "  <tbody>\n",
       "    <tr>\n",
       "      <th>0</th>\n",
       "      <td>0</td>\n",
       "      <td>32.968563</td>\n",
       "      <td>1.645210</td>\n",
       "      <td>6.492515</td>\n",
       "      <td>33.618263</td>\n",
       "      <td>0.937349</td>\n",
       "      <td>1.899054</td>\n",
       "      <td>0.215569</td>\n",
       "      <td>9.126796</td>\n",
       "    </tr>\n",
       "    <tr>\n",
       "      <th>1</th>\n",
       "      <td>1</td>\n",
       "      <td>42.593407</td>\n",
       "      <td>1.950549</td>\n",
       "      <td>16.175824</td>\n",
       "      <td>94.598901</td>\n",
       "      <td>3.923890</td>\n",
       "      <td>7.408731</td>\n",
       "      <td>0.214286</td>\n",
       "      <td>14.006593</td>\n",
       "    </tr>\n",
       "  </tbody>\n",
       "</table>\n",
       "</div>"
      ],
      "text/plain": [
       "   cluster        Age       Edu  Years Employed     Income  Card Debt  \\\n",
       "0        0  32.968563  1.645210        6.492515  33.618263   0.937349   \n",
       "1        1  42.593407  1.950549       16.175824  94.598901   3.923890   \n",
       "\n",
       "   Other Debt  Defaulted  DebtIncomeRatio  \n",
       "0    1.899054   0.215569         9.126796  \n",
       "1    7.408731   0.214286        14.006593  "
      ]
     },
     "execution_count": 17,
     "metadata": {},
     "output_type": "execute_result"
    }
   ],
   "source": [
    "# look at aggregate means by cluster in table form\n",
    "# as_index = False makes clusters a column instead of the index\n",
    "cluster_groups = df.groupby('cluster', as_index = False).mean()\n",
    "cluster_groups"
   ]
  },
  {
   "cell_type": "code",
   "execution_count": 18,
   "id": "e35c2ebd",
   "metadata": {},
   "outputs": [
    {
     "data": {
      "image/png": "[encoded data removed]",
      "text/plain": [
       "<Figure size 900x900 with 9 Axes>"
      ]
     },
     "metadata": {},
     "output_type": "display_data"
    }
   ],
   "source": [
    "# visualize the clusters' aggregate means with bar charts\n",
    "# 8 columns\n",
    "fig, axes = plt.subplots(3, 3, figsize = (9, 9))\n",
    "\n",
    "# axes.ravel() flattens array\n",
    "axes = axes.ravel()\n",
    "\n",
    "# loop over columns and plot each; skip 'cluster' column\n",
    "for i, col in enumerate(cluster_groups.columns[1:]):\n",
    "  axes[i].bar(cluster_groups['cluster'], cluster_groups[col])\n",
    "  axes[i].set_title(f\"Mean {col}\")\n",
    "\n",
    "plt.tight_layout()"
   ]
  },
  {
   "cell_type": "markdown",
   "id": "0bbd5f4e",
   "metadata": {},
   "source": [
    "# Descriptions of Each Cluster\n",
    "\n",
    "Write a description of each cluster, based on the visualizations you created. Do more than describe the numbers, try to see past the numbers and describe what kinds of people are represented by each cluster. Include at least one insight for each cluster."
   ]
  },
  {
   "cell_type": "markdown",
   "id": "dafd16fa",
   "metadata": {},
   "source": [
    "## Cluster 0\n",
    "\n",
    "This cluster is slightly younger (mean age low 30s). They are a little less educated, have been employed for fewer years, and have a lower income, all factors which may relate to their younger age.\n",
    "\n",
    "They have less card and other debt, and a lower debt to income ratio. They have defaulted at the same rate as cluster 1."
   ]
  },
  {
   "cell_type": "markdown",
   "id": "6a9bf661",
   "metadata": {},
   "source": [
    "## Cluster 1:\n",
    "\n",
    "This cluster is older, more educated, has been employed for longer, and has a significantly higher mean income than cluster 0. \n",
    "\n",
    "However, they also have much higher card and other debt, and a higher debt to income ratio on average. \n",
    "\n",
    "They have defaulted on their debt at about the same rate as cluster 0. "
   ]
  },
  {
   "cell_type": "markdown",
   "id": "a12cb920",
   "metadata": {},
   "source": [
    "# Recommendations for Stakeholders\n",
    "\n",
    "Create one or two recommendations for your stakeholders (the credit card company) regarding how they should market credit cards differently, or which cards they should market, to each cluster based on your data and insights."
   ]
  },
  {
   "cell_type": "markdown",
   "id": "76140ddb",
   "metadata": {},
   "source": [
    "## Cluster 0: \n",
    "\n",
    "Provide a low-interest, and low-/no-fee credit card option. This cluster makes less money, and also has less debt, and so are probably looking to pay less for a credit card, and pay off what they put on a credit card quickly."
   ]
  },
  {
   "cell_type": "markdown",
   "id": "a9eebbc0",
   "metadata": {},
   "source": [
    "## Cluster 1: \n",
    "\n",
    "This cluster is older and earns more money, and accrues more debt. You can provide a higher-interest card option, with a higher limit. They may want a card option with more rewards or points to distinguish from other offers."
   ]
  }
 ],
 "metadata": {
  "kernelspec": {
   "display_name": "Python (dojo-env)",
   "language": "python",
   "name": "dojo-env"
  },
  "language_info": {
   "codemirror_mode": {
    "name": "ipython",
    "version": 3
   },
   "file_extension": ".py",
   "mimetype": "text/x-python",
   "name": "python",
   "nbconvert_exporter": "python",
   "pygments_lexer": "ipython3",
   "version": "3.9.15"
  },
  "toc": {
   "base_numbering": 1,
   "nav_menu": {},
   "number_sections": false,
   "sideBar": true,
   "skip_h1_title": false,
   "title_cell": "Table of Contents",
   "title_sidebar": "Contents",
   "toc_cell": false,
   "toc_position": {},
   "toc_section_display": true,
   "toc_window_display": false
  }
 },
 "nbformat": 4,
 "nbformat_minor": 5
}
