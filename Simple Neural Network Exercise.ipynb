{
 "cells": [
  {
   "cell_type": "markdown",
   "id": "3c2923f7",
   "metadata": {},
   "source": [
    "# Simple Neural Network Exercise"
   ]
  },
  {
   "cell_type": "markdown",
   "id": "e085c97d",
   "metadata": {},
   "source": [
    "## Assignment\n",
    "\n",
    "In this assignment, you will create a simple network using dense layers. You will also create 2 more versions of it where you adjust the number of layers and neurons per layer to see if you can achieve better performance.\n",
    "\n",
    "Data Source: Kaggle Heart Disease Dataset: https://www.kaggle.com/fedesoriano/heart-failure-prediction\n",
    "\n",
    "Direct link to data: heart.csv: https://docs.google.com/spreadsheets/d/e/2PACX-1vTRfoQAojPwNsw33zUSpBg32DuK2z0WvLPptGOncIXa38tN3RWk9puvelcmsIIhFb_XF12RD7PdqCwf/pub?output=csv"
   ]
  },
  {
   "cell_type": "markdown",
   "id": "4e561d79",
   "metadata": {},
   "source": [
    "## Data Dictionary\n",
    "\n",
    "Age: age of the patient [years]\n",
    "\n",
    "Sex: sex of the patient [M: Male, F: Female]\n",
    "\n",
    "ChestPainType: chest pain type [TA: Typical Angina, ATA: Atypical Angina, NAP: Non-Anginal Pain, ASY: Asymptomatic]\n",
    "\n",
    "RestingBP: resting blood pressure [mm Hg]\n",
    "\n",
    "Cholesterol: serum cholesterol [mm/dl]\n",
    "\n",
    "FastingBS: fasting blood sugar [1: if FastingBS > 120 mg/dl, 0: otherwise]\n",
    "\n",
    "RestingECG: resting electrocardiogram results [Normal: Normal, ST: having ST-T wave abnormality (T wave inversions and/or ST elevation or depression of > 0.05 mV), LVH: showing probable or definite left ventricular hypertrophy by Estes' criteria]\n",
    "\n",
    "MaxHR: maximum heart rate achieved [Numeric value between 60 and 202]\n",
    "\n",
    "ExerciseAngina: exercise-induced angina [Y: Yes, N: No]\n",
    "\n",
    "Oldpeak: oldpeak = ST [Numeric value measured in depression]\n",
    "\n",
    "ST_Slope: the slope of the peak exercise ST segment [Up: upsloping, Flat: flat, Down: downsloping]\n",
    "\n",
    "HeartDisease: output class [1: heart disease, 0: Normal]"
   ]
  },
  {
   "cell_type": "markdown",
   "id": "531f2b91",
   "metadata": {},
   "source": [
    "## Task\n",
    "\n",
    "Use a neural network to predict heart disease using the given data.\n",
    "\n",
    "Make sure you:\n",
    "\n",
    "1. Explore and clean the data if needed.\n",
    "2. Perform a train-test split on your data.\n",
    "3. Use a column transformer to scale the numeric features and one-hot encode the categorical features.\n",
    "4. Define your base sequential model.\n",
    "5. Include the number of features of each sample in your input layer.\n",
    "6. Use the correct activation function and the correct number of neurons for your output layer.\n",
    "7. Compile your model with the correct loss function and an optimizer (‘adam’ is a fine choice).\n",
    "8. Plot your model’s training history.\n",
    "9. Evaluate your models with appropriate metrics.\n",
    "\n",
    "After you’ve created, fit, and evaluated your first model, try 2 more versions of it with different numbers of layers and neurons to see if you can create a model that scores better on the testing data."
   ]
  },
  {
   "cell_type": "markdown",
   "id": "fe065568",
   "metadata": {},
   "source": [
    "# Preliminary Steps"
   ]
  },
  {
   "cell_type": "code",
   "execution_count": 270,
   "id": "27e09b4a",
   "metadata": {},
   "outputs": [],
   "source": [
    "# import libraries\n",
    "\n",
    "# general\n",
    "import pandas as pd\n",
    "\n",
    "# preprocessing\n",
    "from sklearn.model_selection import train_test_split\n",
    "from sklearn.preprocessing import StandardScaler, OneHotEncoder\n",
    "from sklearn.pipeline import make_pipeline\n",
    "from sklearn.compose import make_column_transformer\n",
    "\n",
    "# neural networks\n",
    "from tensorflow.keras.models import Sequential\n",
    "from tensorflow.keras.layers import Dense\n",
    "\n",
    "# visualization\n",
    "import matplotlib.pyplot as plt\n",
    "\n",
    "# evaluation\n",
    "from sklearn.metrics import classification_report, ConfusionMatrixDisplay"
   ]
  },
  {
   "cell_type": "code",
   "execution_count": 271,
   "id": "a97df777",
   "metadata": {},
   "outputs": [],
   "source": [
    "# load data\n",
    "df = pd.read_csv('https://docs.google.com/spreadsheets/d/e/2PACX-1vTRfoQAojPwNsw33zUSpBg32DuK2z0WvLPptGOncIXa38tN3RWk9puvelcmsIIhFb_XF12RD7PdqCwf/pub?output=csv')"
   ]
  },
  {
   "cell_type": "code",
   "execution_count": 272,
   "id": "f4bda241",
   "metadata": {},
   "outputs": [
    {
     "name": "stdout",
     "output_type": "stream",
     "text": [
      "<class 'pandas.core.frame.DataFrame'>\n",
      "RangeIndex: 918 entries, 0 to 917\n",
      "Data columns (total 12 columns):\n",
      " #   Column          Non-Null Count  Dtype  \n",
      "---  ------          --------------  -----  \n",
      " 0   Age             918 non-null    int64  \n",
      " 1   Sex             918 non-null    object \n",
      " 2   ChestPainType   918 non-null    object \n",
      " 3   RestingBP       918 non-null    int64  \n",
      " 4   Cholesterol     918 non-null    int64  \n",
      " 5   FastingBS       918 non-null    int64  \n",
      " 6   RestingECG      918 non-null    object \n",
      " 7   MaxHR           918 non-null    int64  \n",
      " 8   ExerciseAngina  918 non-null    object \n",
      " 9   Oldpeak         918 non-null    float64\n",
      " 10  ST_Slope        918 non-null    object \n",
      " 11  HeartDisease    918 non-null    int64  \n",
      "dtypes: float64(1), int64(6), object(5)\n",
      "memory usage: 86.2+ KB\n"
     ]
    }
   ],
   "source": [
    "# inspect data\n",
    "df.info()"
   ]
  },
  {
   "cell_type": "markdown",
   "id": "4c2cde70",
   "metadata": {},
   "source": [
    "# 1. Explore and clean the data as needed."
   ]
  },
  {
   "cell_type": "code",
   "execution_count": 273,
   "id": "db097137",
   "metadata": {},
   "outputs": [
    {
     "data": {
      "text/plain": [
       "0"
      ]
     },
     "execution_count": 273,
     "metadata": {},
     "output_type": "execute_result"
    }
   ],
   "source": [
    "# drop any duplicates\n",
    "df.drop_duplicates(inplace = True)\n",
    "\n",
    "# check\n",
    "df.duplicated().sum()"
   ]
  },
  {
   "cell_type": "code",
   "execution_count": 274,
   "id": "5d155628",
   "metadata": {},
   "outputs": [
    {
     "data": {
      "text/plain": [
       "Age               0\n",
       "Sex               0\n",
       "ChestPainType     0\n",
       "RestingBP         0\n",
       "Cholesterol       0\n",
       "FastingBS         0\n",
       "RestingECG        0\n",
       "MaxHR             0\n",
       "ExerciseAngina    0\n",
       "Oldpeak           0\n",
       "ST_Slope          0\n",
       "HeartDisease      0\n",
       "dtype: int64"
      ]
     },
     "execution_count": 274,
     "metadata": {},
     "output_type": "execute_result"
    }
   ],
   "source": [
    "# check for any missing values\n",
    "df.isna().sum()"
   ]
  },
  {
   "cell_type": "code",
   "execution_count": 275,
   "id": "49b6f2cf",
   "metadata": {},
   "outputs": [
    {
     "data": {
      "text/plain": [
       "Age                 int64\n",
       "Sex                object\n",
       "ChestPainType      object\n",
       "RestingBP           int64\n",
       "Cholesterol         int64\n",
       "FastingBS           int64\n",
       "RestingECG         object\n",
       "MaxHR               int64\n",
       "ExerciseAngina     object\n",
       "Oldpeak           float64\n",
       "ST_Slope           object\n",
       "HeartDisease        int64\n",
       "dtype: object"
      ]
     },
     "execution_count": 275,
     "metadata": {},
     "output_type": "execute_result"
    }
   ],
   "source": [
    "# check dtypes and inconsistent/impossible values against data dictionary\n",
    "df.dtypes"
   ]
  },
  {
   "cell_type": "code",
   "execution_count": 276,
   "id": "48887d36",
   "metadata": {},
   "outputs": [
    {
     "name": "stdout",
     "output_type": "stream",
     "text": [
      "Sex\n",
      "M    725\n",
      "F    193\n",
      "Name: Sex, dtype: int64\n",
      "\n",
      "ChestPainType\n",
      "ASY    496\n",
      "NAP    203\n",
      "ATA    173\n",
      "TA      46\n",
      "Name: ChestPainType, dtype: int64\n",
      "\n",
      "RestingECG\n",
      "Normal    552\n",
      "LVH       188\n",
      "ST        178\n",
      "Name: RestingECG, dtype: int64\n",
      "\n",
      "ExerciseAngina\n",
      "N    547\n",
      "Y    371\n",
      "Name: ExerciseAngina, dtype: int64\n",
      "\n",
      "ST_Slope\n",
      "Flat    460\n",
      "Up      395\n",
      "Down     63\n",
      "Name: ST_Slope, dtype: int64\n",
      "\n"
     ]
    }
   ],
   "source": [
    "cat_cols = list(df.select_dtypes(include='object'))\n",
    "\n",
    "for col in cat_cols:\n",
    "    print(col)\n",
    "    print(df[col].value_counts(dropna = False))\n",
    "    print()"
   ]
  },
  {
   "cell_type": "code",
   "execution_count": 277,
   "id": "74b15505",
   "metadata": {},
   "outputs": [
    {
     "data": {
      "text/html": [
       "<div>\n",
       "<style scoped>\n",
       "    .dataframe tbody tr th:only-of-type {\n",
       "        vertical-align: middle;\n",
       "    }\n",
       "\n",
       "    .dataframe tbody tr th {\n",
       "        vertical-align: top;\n",
       "    }\n",
       "\n",
       "    .dataframe thead th {\n",
       "        text-align: right;\n",
       "    }\n",
       "</style>\n",
       "<table border=\"1\" class=\"dataframe\">\n",
       "  <thead>\n",
       "    <tr style=\"text-align: right;\">\n",
       "      <th></th>\n",
       "      <th>Age</th>\n",
       "      <th>RestingBP</th>\n",
       "      <th>Cholesterol</th>\n",
       "      <th>FastingBS</th>\n",
       "      <th>MaxHR</th>\n",
       "      <th>Oldpeak</th>\n",
       "      <th>HeartDisease</th>\n",
       "    </tr>\n",
       "  </thead>\n",
       "  <tbody>\n",
       "    <tr>\n",
       "      <th>count</th>\n",
       "      <td>918.000000</td>\n",
       "      <td>918.000000</td>\n",
       "      <td>918.000000</td>\n",
       "      <td>918.000000</td>\n",
       "      <td>918.000000</td>\n",
       "      <td>918.000000</td>\n",
       "      <td>918.000000</td>\n",
       "    </tr>\n",
       "    <tr>\n",
       "      <th>mean</th>\n",
       "      <td>53.510893</td>\n",
       "      <td>132.396514</td>\n",
       "      <td>198.799564</td>\n",
       "      <td>0.233115</td>\n",
       "      <td>136.809368</td>\n",
       "      <td>0.887364</td>\n",
       "      <td>0.553377</td>\n",
       "    </tr>\n",
       "    <tr>\n",
       "      <th>std</th>\n",
       "      <td>9.432617</td>\n",
       "      <td>18.514154</td>\n",
       "      <td>109.384145</td>\n",
       "      <td>0.423046</td>\n",
       "      <td>25.460334</td>\n",
       "      <td>1.066570</td>\n",
       "      <td>0.497414</td>\n",
       "    </tr>\n",
       "    <tr>\n",
       "      <th>min</th>\n",
       "      <td>28.000000</td>\n",
       "      <td>0.000000</td>\n",
       "      <td>0.000000</td>\n",
       "      <td>0.000000</td>\n",
       "      <td>60.000000</td>\n",
       "      <td>-2.600000</td>\n",
       "      <td>0.000000</td>\n",
       "    </tr>\n",
       "    <tr>\n",
       "      <th>25%</th>\n",
       "      <td>47.000000</td>\n",
       "      <td>120.000000</td>\n",
       "      <td>173.250000</td>\n",
       "      <td>0.000000</td>\n",
       "      <td>120.000000</td>\n",
       "      <td>0.000000</td>\n",
       "      <td>0.000000</td>\n",
       "    </tr>\n",
       "    <tr>\n",
       "      <th>50%</th>\n",
       "      <td>54.000000</td>\n",
       "      <td>130.000000</td>\n",
       "      <td>223.000000</td>\n",
       "      <td>0.000000</td>\n",
       "      <td>138.000000</td>\n",
       "      <td>0.600000</td>\n",
       "      <td>1.000000</td>\n",
       "    </tr>\n",
       "    <tr>\n",
       "      <th>75%</th>\n",
       "      <td>60.000000</td>\n",
       "      <td>140.000000</td>\n",
       "      <td>267.000000</td>\n",
       "      <td>0.000000</td>\n",
       "      <td>156.000000</td>\n",
       "      <td>1.500000</td>\n",
       "      <td>1.000000</td>\n",
       "    </tr>\n",
       "    <tr>\n",
       "      <th>max</th>\n",
       "      <td>77.000000</td>\n",
       "      <td>200.000000</td>\n",
       "      <td>603.000000</td>\n",
       "      <td>1.000000</td>\n",
       "      <td>202.000000</td>\n",
       "      <td>6.200000</td>\n",
       "      <td>1.000000</td>\n",
       "    </tr>\n",
       "  </tbody>\n",
       "</table>\n",
       "</div>"
      ],
      "text/plain": [
       "              Age   RestingBP  Cholesterol   FastingBS       MaxHR  \\\n",
       "count  918.000000  918.000000   918.000000  918.000000  918.000000   \n",
       "mean    53.510893  132.396514   198.799564    0.233115  136.809368   \n",
       "std      9.432617   18.514154   109.384145    0.423046   25.460334   \n",
       "min     28.000000    0.000000     0.000000    0.000000   60.000000   \n",
       "25%     47.000000  120.000000   173.250000    0.000000  120.000000   \n",
       "50%     54.000000  130.000000   223.000000    0.000000  138.000000   \n",
       "75%     60.000000  140.000000   267.000000    0.000000  156.000000   \n",
       "max     77.000000  200.000000   603.000000    1.000000  202.000000   \n",
       "\n",
       "          Oldpeak  HeartDisease  \n",
       "count  918.000000    918.000000  \n",
       "mean     0.887364      0.553377  \n",
       "std      1.066570      0.497414  \n",
       "min     -2.600000      0.000000  \n",
       "25%      0.000000      0.000000  \n",
       "50%      0.600000      1.000000  \n",
       "75%      1.500000      1.000000  \n",
       "max      6.200000      1.000000  "
      ]
     },
     "execution_count": 277,
     "metadata": {},
     "output_type": "execute_result"
    }
   ],
   "source": [
    "num_cols = list(df.select_dtypes(include = 'number'))\n",
    "\n",
    "df[num_cols].describe()"
   ]
  },
  {
   "cell_type": "code",
   "execution_count": 278,
   "id": "e1852ee3",
   "metadata": {},
   "outputs": [
    {
     "data": {
      "text/html": [
       "<div>\n",
       "<style scoped>\n",
       "    .dataframe tbody tr th:only-of-type {\n",
       "        vertical-align: middle;\n",
       "    }\n",
       "\n",
       "    .dataframe tbody tr th {\n",
       "        vertical-align: top;\n",
       "    }\n",
       "\n",
       "    .dataframe thead th {\n",
       "        text-align: right;\n",
       "    }\n",
       "</style>\n",
       "<table border=\"1\" class=\"dataframe\">\n",
       "  <thead>\n",
       "    <tr style=\"text-align: right;\">\n",
       "      <th></th>\n",
       "      <th>Age</th>\n",
       "      <th>Sex</th>\n",
       "      <th>ChestPainType</th>\n",
       "      <th>RestingBP</th>\n",
       "      <th>Cholesterol</th>\n",
       "      <th>FastingBS</th>\n",
       "      <th>RestingECG</th>\n",
       "      <th>MaxHR</th>\n",
       "      <th>ExerciseAngina</th>\n",
       "      <th>Oldpeak</th>\n",
       "      <th>ST_Slope</th>\n",
       "      <th>HeartDisease</th>\n",
       "    </tr>\n",
       "  </thead>\n",
       "  <tbody>\n",
       "    <tr>\n",
       "      <th>449</th>\n",
       "      <td>55</td>\n",
       "      <td>M</td>\n",
       "      <td>NAP</td>\n",
       "      <td>0</td>\n",
       "      <td>0</td>\n",
       "      <td>0</td>\n",
       "      <td>Normal</td>\n",
       "      <td>155</td>\n",
       "      <td>N</td>\n",
       "      <td>1.5</td>\n",
       "      <td>Flat</td>\n",
       "      <td>1</td>\n",
       "    </tr>\n",
       "  </tbody>\n",
       "</table>\n",
       "</div>"
      ],
      "text/plain": [
       "     Age Sex ChestPainType  RestingBP  Cholesterol  FastingBS RestingECG  \\\n",
       "449   55   M           NAP          0            0          0     Normal   \n",
       "\n",
       "     MaxHR ExerciseAngina  Oldpeak ST_Slope  HeartDisease  \n",
       "449    155              N      1.5     Flat             1  "
      ]
     },
     "execution_count": 278,
     "metadata": {},
     "output_type": "execute_result"
    }
   ],
   "source": [
    "df[df['RestingBP'] == 0]"
   ]
  },
  {
   "cell_type": "code",
   "execution_count": 279,
   "id": "c230ff97",
   "metadata": {},
   "outputs": [
    {
     "data": {
      "text/html": [
       "<div>\n",
       "<style scoped>\n",
       "    .dataframe tbody tr th:only-of-type {\n",
       "        vertical-align: middle;\n",
       "    }\n",
       "\n",
       "    .dataframe tbody tr th {\n",
       "        vertical-align: top;\n",
       "    }\n",
       "\n",
       "    .dataframe thead th {\n",
       "        text-align: right;\n",
       "    }\n",
       "</style>\n",
       "<table border=\"1\" class=\"dataframe\">\n",
       "  <thead>\n",
       "    <tr style=\"text-align: right;\">\n",
       "      <th></th>\n",
       "      <th>Age</th>\n",
       "      <th>Sex</th>\n",
       "      <th>ChestPainType</th>\n",
       "      <th>RestingBP</th>\n",
       "      <th>Cholesterol</th>\n",
       "      <th>FastingBS</th>\n",
       "      <th>RestingECG</th>\n",
       "      <th>MaxHR</th>\n",
       "      <th>ExerciseAngina</th>\n",
       "      <th>Oldpeak</th>\n",
       "      <th>ST_Slope</th>\n",
       "      <th>HeartDisease</th>\n",
       "    </tr>\n",
       "  </thead>\n",
       "  <tbody>\n",
       "  </tbody>\n",
       "</table>\n",
       "</div>"
      ],
      "text/plain": [
       "Empty DataFrame\n",
       "Columns: [Age, Sex, ChestPainType, RestingBP, Cholesterol, FastingBS, RestingECG, MaxHR, ExerciseAngina, Oldpeak, ST_Slope, HeartDisease]\n",
       "Index: []"
      ]
     },
     "execution_count": 279,
     "metadata": {},
     "output_type": "execute_result"
    }
   ],
   "source": [
    "# i assume that a RestingBP of 0 is a mistake and will drop this row\n",
    "df = df[df['RestingBP'] != 0]\n",
    "\n",
    "# check\n",
    "df[df['RestingBP'] == 0]"
   ]
  },
  {
   "cell_type": "code",
   "execution_count": 280,
   "id": "8fe48481",
   "metadata": {},
   "outputs": [
    {
     "data": {
      "text/html": [
       "<div>\n",
       "<style scoped>\n",
       "    .dataframe tbody tr th:only-of-type {\n",
       "        vertical-align: middle;\n",
       "    }\n",
       "\n",
       "    .dataframe tbody tr th {\n",
       "        vertical-align: top;\n",
       "    }\n",
       "\n",
       "    .dataframe thead th {\n",
       "        text-align: right;\n",
       "    }\n",
       "</style>\n",
       "<table border=\"1\" class=\"dataframe\">\n",
       "  <thead>\n",
       "    <tr style=\"text-align: right;\">\n",
       "      <th></th>\n",
       "      <th>Age</th>\n",
       "      <th>Sex</th>\n",
       "      <th>ChestPainType</th>\n",
       "      <th>RestingBP</th>\n",
       "      <th>Cholesterol</th>\n",
       "      <th>FastingBS</th>\n",
       "      <th>RestingECG</th>\n",
       "      <th>MaxHR</th>\n",
       "      <th>ExerciseAngina</th>\n",
       "      <th>Oldpeak</th>\n",
       "      <th>ST_Slope</th>\n",
       "      <th>HeartDisease</th>\n",
       "    </tr>\n",
       "  </thead>\n",
       "  <tbody>\n",
       "    <tr>\n",
       "      <th>293</th>\n",
       "      <td>65</td>\n",
       "      <td>M</td>\n",
       "      <td>ASY</td>\n",
       "      <td>115</td>\n",
       "      <td>0</td>\n",
       "      <td>0</td>\n",
       "      <td>Normal</td>\n",
       "      <td>93</td>\n",
       "      <td>Y</td>\n",
       "      <td>0.0</td>\n",
       "      <td>Flat</td>\n",
       "      <td>1</td>\n",
       "    </tr>\n",
       "    <tr>\n",
       "      <th>294</th>\n",
       "      <td>32</td>\n",
       "      <td>M</td>\n",
       "      <td>TA</td>\n",
       "      <td>95</td>\n",
       "      <td>0</td>\n",
       "      <td>1</td>\n",
       "      <td>Normal</td>\n",
       "      <td>127</td>\n",
       "      <td>N</td>\n",
       "      <td>0.7</td>\n",
       "      <td>Up</td>\n",
       "      <td>1</td>\n",
       "    </tr>\n",
       "    <tr>\n",
       "      <th>295</th>\n",
       "      <td>61</td>\n",
       "      <td>M</td>\n",
       "      <td>ASY</td>\n",
       "      <td>105</td>\n",
       "      <td>0</td>\n",
       "      <td>1</td>\n",
       "      <td>Normal</td>\n",
       "      <td>110</td>\n",
       "      <td>Y</td>\n",
       "      <td>1.5</td>\n",
       "      <td>Up</td>\n",
       "      <td>1</td>\n",
       "    </tr>\n",
       "    <tr>\n",
       "      <th>296</th>\n",
       "      <td>50</td>\n",
       "      <td>M</td>\n",
       "      <td>ASY</td>\n",
       "      <td>145</td>\n",
       "      <td>0</td>\n",
       "      <td>1</td>\n",
       "      <td>Normal</td>\n",
       "      <td>139</td>\n",
       "      <td>Y</td>\n",
       "      <td>0.7</td>\n",
       "      <td>Flat</td>\n",
       "      <td>1</td>\n",
       "    </tr>\n",
       "    <tr>\n",
       "      <th>297</th>\n",
       "      <td>57</td>\n",
       "      <td>M</td>\n",
       "      <td>ASY</td>\n",
       "      <td>110</td>\n",
       "      <td>0</td>\n",
       "      <td>1</td>\n",
       "      <td>ST</td>\n",
       "      <td>131</td>\n",
       "      <td>Y</td>\n",
       "      <td>1.4</td>\n",
       "      <td>Up</td>\n",
       "      <td>1</td>\n",
       "    </tr>\n",
       "    <tr>\n",
       "      <th>...</th>\n",
       "      <td>...</td>\n",
       "      <td>...</td>\n",
       "      <td>...</td>\n",
       "      <td>...</td>\n",
       "      <td>...</td>\n",
       "      <td>...</td>\n",
       "      <td>...</td>\n",
       "      <td>...</td>\n",
       "      <td>...</td>\n",
       "      <td>...</td>\n",
       "      <td>...</td>\n",
       "      <td>...</td>\n",
       "    </tr>\n",
       "    <tr>\n",
       "      <th>514</th>\n",
       "      <td>43</td>\n",
       "      <td>M</td>\n",
       "      <td>ASY</td>\n",
       "      <td>122</td>\n",
       "      <td>0</td>\n",
       "      <td>0</td>\n",
       "      <td>Normal</td>\n",
       "      <td>120</td>\n",
       "      <td>N</td>\n",
       "      <td>0.5</td>\n",
       "      <td>Up</td>\n",
       "      <td>1</td>\n",
       "    </tr>\n",
       "    <tr>\n",
       "      <th>515</th>\n",
       "      <td>63</td>\n",
       "      <td>M</td>\n",
       "      <td>NAP</td>\n",
       "      <td>130</td>\n",
       "      <td>0</td>\n",
       "      <td>1</td>\n",
       "      <td>ST</td>\n",
       "      <td>160</td>\n",
       "      <td>N</td>\n",
       "      <td>3.0</td>\n",
       "      <td>Flat</td>\n",
       "      <td>0</td>\n",
       "    </tr>\n",
       "    <tr>\n",
       "      <th>518</th>\n",
       "      <td>48</td>\n",
       "      <td>M</td>\n",
       "      <td>NAP</td>\n",
       "      <td>102</td>\n",
       "      <td>0</td>\n",
       "      <td>1</td>\n",
       "      <td>ST</td>\n",
       "      <td>110</td>\n",
       "      <td>Y</td>\n",
       "      <td>1.0</td>\n",
       "      <td>Down</td>\n",
       "      <td>1</td>\n",
       "    </tr>\n",
       "    <tr>\n",
       "      <th>535</th>\n",
       "      <td>56</td>\n",
       "      <td>M</td>\n",
       "      <td>ASY</td>\n",
       "      <td>130</td>\n",
       "      <td>0</td>\n",
       "      <td>0</td>\n",
       "      <td>LVH</td>\n",
       "      <td>122</td>\n",
       "      <td>Y</td>\n",
       "      <td>1.0</td>\n",
       "      <td>Flat</td>\n",
       "      <td>1</td>\n",
       "    </tr>\n",
       "    <tr>\n",
       "      <th>536</th>\n",
       "      <td>62</td>\n",
       "      <td>M</td>\n",
       "      <td>NAP</td>\n",
       "      <td>133</td>\n",
       "      <td>0</td>\n",
       "      <td>1</td>\n",
       "      <td>ST</td>\n",
       "      <td>119</td>\n",
       "      <td>Y</td>\n",
       "      <td>1.2</td>\n",
       "      <td>Flat</td>\n",
       "      <td>1</td>\n",
       "    </tr>\n",
       "  </tbody>\n",
       "</table>\n",
       "<p>171 rows × 12 columns</p>\n",
       "</div>"
      ],
      "text/plain": [
       "     Age Sex ChestPainType  RestingBP  Cholesterol  FastingBS RestingECG  \\\n",
       "293   65   M           ASY        115            0          0     Normal   \n",
       "294   32   M            TA         95            0          1     Normal   \n",
       "295   61   M           ASY        105            0          1     Normal   \n",
       "296   50   M           ASY        145            0          1     Normal   \n",
       "297   57   M           ASY        110            0          1         ST   \n",
       "..   ...  ..           ...        ...          ...        ...        ...   \n",
       "514   43   M           ASY        122            0          0     Normal   \n",
       "515   63   M           NAP        130            0          1         ST   \n",
       "518   48   M           NAP        102            0          1         ST   \n",
       "535   56   M           ASY        130            0          0        LVH   \n",
       "536   62   M           NAP        133            0          1         ST   \n",
       "\n",
       "     MaxHR ExerciseAngina  Oldpeak ST_Slope  HeartDisease  \n",
       "293     93              Y      0.0     Flat             1  \n",
       "294    127              N      0.7       Up             1  \n",
       "295    110              Y      1.5       Up             1  \n",
       "296    139              Y      0.7     Flat             1  \n",
       "297    131              Y      1.4       Up             1  \n",
       "..     ...            ...      ...      ...           ...  \n",
       "514    120              N      0.5       Up             1  \n",
       "515    160              N      3.0     Flat             0  \n",
       "518    110              Y      1.0     Down             1  \n",
       "535    122              Y      1.0     Flat             1  \n",
       "536    119              Y      1.2     Flat             1  \n",
       "\n",
       "[171 rows x 12 columns]"
      ]
     },
     "execution_count": 280,
     "metadata": {},
     "output_type": "execute_result"
    }
   ],
   "source": [
    "df[df['Cholesterol'] == 0]"
   ]
  },
  {
   "cell_type": "code",
   "execution_count": 281,
   "id": "6366a02a",
   "metadata": {},
   "outputs": [],
   "source": [
    "# since there are 172 instances of cholesterol 0, i will assume this is\n",
    "# possible and keep these rows"
   ]
  },
  {
   "cell_type": "markdown",
   "id": "344ba4e5",
   "metadata": {},
   "source": [
    "# 2. Perform a train-test split on your data."
   ]
  },
  {
   "cell_type": "code",
   "execution_count": 282,
   "id": "c770e637",
   "metadata": {},
   "outputs": [
    {
     "name": "stdout",
     "output_type": "stream",
     "text": [
      "y:\n",
      "0      0\n",
      "1      1\n",
      "2      0\n",
      "3      1\n",
      "4      0\n",
      "      ..\n",
      "913    1\n",
      "914    1\n",
      "915    1\n",
      "916    1\n",
      "917    0\n",
      "Name: HeartDisease, Length: 917, dtype: int64\n",
      "X:\n",
      "     Age Sex ChestPainType  RestingBP  Cholesterol  FastingBS RestingECG  \\\n",
      "0     40   M           ATA        140          289          0     Normal   \n",
      "1     49   F           NAP        160          180          0     Normal   \n",
      "2     37   M           ATA        130          283          0         ST   \n",
      "3     48   F           ASY        138          214          0     Normal   \n",
      "4     54   M           NAP        150          195          0     Normal   \n",
      "..   ...  ..           ...        ...          ...        ...        ...   \n",
      "913   45   M            TA        110          264          0     Normal   \n",
      "914   68   M           ASY        144          193          1     Normal   \n",
      "915   57   M           ASY        130          131          0     Normal   \n",
      "916   57   F           ATA        130          236          0        LVH   \n",
      "917   38   M           NAP        138          175          0     Normal   \n",
      "\n",
      "     MaxHR ExerciseAngina  Oldpeak ST_Slope  \n",
      "0      172              N      0.0       Up  \n",
      "1      156              N      1.0     Flat  \n",
      "2       98              N      0.0       Up  \n",
      "3      108              Y      1.5     Flat  \n",
      "4      122              N      0.0       Up  \n",
      "..     ...            ...      ...      ...  \n",
      "913    132              N      1.2     Flat  \n",
      "914    141              N      3.4     Flat  \n",
      "915    115              Y      1.2     Flat  \n",
      "916    174              N      0.0     Flat  \n",
      "917    173              N      0.0       Up  \n",
      "\n",
      "[917 rows x 11 columns]\n"
     ]
    }
   ],
   "source": [
    "# X y split\n",
    "target = 'HeartDisease'\n",
    "y = df[target]\n",
    "X = df.drop(columns = target)\n",
    "\n",
    "# check\n",
    "print(f\"y:\\n{y}\")\n",
    "print(f\"X:\\n{X}\")"
   ]
  },
  {
   "cell_type": "code",
   "execution_count": 283,
   "id": "cd7335b3",
   "metadata": {},
   "outputs": [
    {
     "name": "stdout",
     "output_type": "stream",
     "text": [
      "0    724\n",
      "1    193\n",
      "Name: Sex, dtype: int64\n",
      "0    546\n",
      "1    371\n",
      "Name: ExerciseAngina, dtype: int64\n"
     ]
    }
   ],
   "source": [
    "# binary encode and passthrough: 'Sex', 'ExerciseAngina'\n",
    "\n",
    "# Sex\n",
    "X['Sex'].replace({'F': 1, 'M': 0}, inplace = True)\n",
    "X.rename({'Sex': 'Female'}, inplace = True)\n",
    "\n",
    "# ExerciseAngina\n",
    "X['ExerciseAngina'].replace({'Y': 1, 'N': 0}, inplace = True)\n",
    "\n",
    "# check\n",
    "print(X['Sex'].value_counts())\n",
    "print(X['ExerciseAngina'].value_counts())"
   ]
  },
  {
   "cell_type": "code",
   "execution_count": 284,
   "id": "31d27d8b",
   "metadata": {},
   "outputs": [
    {
     "name": "stdout",
     "output_type": "stream",
     "text": [
      "X_train shape: (687, 11)\n",
      "X_test shape: (230, 11)\n",
      "y_train shape: (687,)\n",
      "y_test shape: (230,)\n"
     ]
    }
   ],
   "source": [
    "# train-test split\n",
    "X_train, X_test, y_train, y_test = train_test_split(X, y, random_state = 42)\n",
    "\n",
    "# check\n",
    "print(f\"X_train shape: {X_train.shape}\")\n",
    "print(f\"X_test shape: {X_test.shape}\")\n",
    "print(f\"y_train shape: {y_train.shape}\")\n",
    "print(f\"y_test shape: {y_test.shape}\")"
   ]
  },
  {
   "cell_type": "markdown",
   "id": "68c88af9",
   "metadata": {},
   "source": [
    "# 3. Use a column transformer to scale the numeric features and one-hot encode the categorical features."
   ]
  },
  {
   "cell_type": "code",
   "execution_count": 285,
   "id": "e28bd06d",
   "metadata": {},
   "outputs": [],
   "source": [
    "# scale: 'Age', 'RestingBP', 'Cholesterol', 'MaxHR', 'Oldpeak'\n",
    "\n",
    "scale_cols = ['Age', 'RestingBP', 'Cholesterol', 'MaxHR', 'Oldpeak']\n",
    "\n",
    "scaler = StandardScaler()\n",
    "\n",
    "scale_tuple = (scaler, scale_cols)"
   ]
  },
  {
   "cell_type": "code",
   "execution_count": 286,
   "id": "b1c2d0a9",
   "metadata": {},
   "outputs": [],
   "source": [
    "# ohe: 'ChestPainType', 'RestingECG', 'ST_Slope'\n",
    "\n",
    "ohe_cols = ['ChestPainType', 'RestingECG', 'ST_Slope']\n",
    "\n",
    "ohe = OneHotEncoder(handle_unknown = 'ignore')\n",
    "\n",
    "ohe_tuple = (ohe, ohe_cols)"
   ]
  },
  {
   "cell_type": "code",
   "execution_count": 287,
   "id": "007cfb65",
   "metadata": {},
   "outputs": [],
   "source": [
    "# already scaled (passthrough): 'FastingBS'"
   ]
  },
  {
   "cell_type": "code",
   "execution_count": 288,
   "id": "77c2911d",
   "metadata": {},
   "outputs": [
    {
     "data": {
      "text/html": [
       "<style>#sk-container-id-12 {color: black;background-color: white;}#sk-container-id-12 pre{padding: 0;}#sk-container-id-12 div.sk-toggleable {background-color: white;}#sk-container-id-12 label.sk-toggleable__label {cursor: pointer;display: block;width: 100%;margin-bottom: 0;padding: 0.3em;box-sizing: border-box;text-align: center;}#sk-container-id-12 label.sk-toggleable__label-arrow:before {content: \"▸\";float: left;margin-right: 0.25em;color: #696969;}#sk-container-id-12 label.sk-toggleable__label-arrow:hover:before {color: black;}#sk-container-id-12 div.sk-estimator:hover label.sk-toggleable__label-arrow:before {color: black;}#sk-container-id-12 div.sk-toggleable__content {max-height: 0;max-width: 0;overflow: hidden;text-align: left;background-color: #f0f8ff;}#sk-container-id-12 div.sk-toggleable__content pre {margin: 0.2em;color: black;border-radius: 0.25em;background-color: #f0f8ff;}#sk-container-id-12 input.sk-toggleable__control:checked~div.sk-toggleable__content {max-height: 200px;max-width: 100%;overflow: auto;}#sk-container-id-12 input.sk-toggleable__control:checked~label.sk-toggleable__label-arrow:before {content: \"▾\";}#sk-container-id-12 div.sk-estimator input.sk-toggleable__control:checked~label.sk-toggleable__label {background-color: #d4ebff;}#sk-container-id-12 div.sk-label input.sk-toggleable__control:checked~label.sk-toggleable__label {background-color: #d4ebff;}#sk-container-id-12 input.sk-hidden--visually {border: 0;clip: rect(1px 1px 1px 1px);clip: rect(1px, 1px, 1px, 1px);height: 1px;margin: -1px;overflow: hidden;padding: 0;position: absolute;width: 1px;}#sk-container-id-12 div.sk-estimator {font-family: monospace;background-color: #f0f8ff;border: 1px dotted black;border-radius: 0.25em;box-sizing: border-box;margin-bottom: 0.5em;}#sk-container-id-12 div.sk-estimator:hover {background-color: #d4ebff;}#sk-container-id-12 div.sk-parallel-item::after {content: \"\";width: 100%;border-bottom: 1px solid gray;flex-grow: 1;}#sk-container-id-12 div.sk-label:hover label.sk-toggleable__label {background-color: #d4ebff;}#sk-container-id-12 div.sk-serial::before {content: \"\";position: absolute;border-left: 1px solid gray;box-sizing: border-box;top: 0;bottom: 0;left: 50%;z-index: 0;}#sk-container-id-12 div.sk-serial {display: flex;flex-direction: column;align-items: center;background-color: white;padding-right: 0.2em;padding-left: 0.2em;position: relative;}#sk-container-id-12 div.sk-item {position: relative;z-index: 1;}#sk-container-id-12 div.sk-parallel {display: flex;align-items: stretch;justify-content: center;background-color: white;position: relative;}#sk-container-id-12 div.sk-item::before, #sk-container-id-12 div.sk-parallel-item::before {content: \"\";position: absolute;border-left: 1px solid gray;box-sizing: border-box;top: 0;bottom: 0;left: 50%;z-index: -1;}#sk-container-id-12 div.sk-parallel-item {display: flex;flex-direction: column;z-index: 1;position: relative;background-color: white;}#sk-container-id-12 div.sk-parallel-item:first-child::after {align-self: flex-end;width: 50%;}#sk-container-id-12 div.sk-parallel-item:last-child::after {align-self: flex-start;width: 50%;}#sk-container-id-12 div.sk-parallel-item:only-child::after {width: 0;}#sk-container-id-12 div.sk-dashed-wrapped {border: 1px dashed gray;margin: 0 0.4em 0.5em 0.4em;box-sizing: border-box;padding-bottom: 0.4em;background-color: white;}#sk-container-id-12 div.sk-label label {font-family: monospace;font-weight: bold;display: inline-block;line-height: 1.2em;}#sk-container-id-12 div.sk-label-container {text-align: center;}#sk-container-id-12 div.sk-container {/* jupyter's `normalize.less` sets `[hidden] { display: none; }` but bootstrap.min.css set `[hidden] { display: none !important; }` so we also need the `!important` here to be able to override the default hidden behavior on the sphinx rendered scikit-learn.org. See: https://github.com/scikit-learn/scikit-learn/issues/21755 */display: inline-block !important;position: relative;}#sk-container-id-12 div.sk-text-repr-fallback {display: none;}</style><div id=\"sk-container-id-12\" class=\"sk-top-container\"><div class=\"sk-text-repr-fallback\"><pre>ColumnTransformer(remainder=&#x27;passthrough&#x27;,\n",
       "                  transformers=[(&#x27;standardscaler&#x27;, StandardScaler(),\n",
       "                                 [&#x27;Age&#x27;, &#x27;RestingBP&#x27;, &#x27;Cholesterol&#x27;, &#x27;MaxHR&#x27;,\n",
       "                                  &#x27;Oldpeak&#x27;]),\n",
       "                                (&#x27;onehotencoder&#x27;,\n",
       "                                 OneHotEncoder(handle_unknown=&#x27;ignore&#x27;),\n",
       "                                 [&#x27;ChestPainType&#x27;, &#x27;RestingECG&#x27;, &#x27;ST_Slope&#x27;])])</pre><b>In a Jupyter environment, please rerun this cell to show the HTML representation or trust the notebook. <br />On GitHub, the HTML representation is unable to render, please try loading this page with nbviewer.org.</b></div><div class=\"sk-container\" hidden><div class=\"sk-item sk-dashed-wrapped\"><div class=\"sk-label-container\"><div class=\"sk-label sk-toggleable\"><input class=\"sk-toggleable__control sk-hidden--visually\" id=\"sk-estimator-id-84\" type=\"checkbox\" ><label for=\"sk-estimator-id-84\" class=\"sk-toggleable__label sk-toggleable__label-arrow\">ColumnTransformer</label><div class=\"sk-toggleable__content\"><pre>ColumnTransformer(remainder=&#x27;passthrough&#x27;,\n",
       "                  transformers=[(&#x27;standardscaler&#x27;, StandardScaler(),\n",
       "                                 [&#x27;Age&#x27;, &#x27;RestingBP&#x27;, &#x27;Cholesterol&#x27;, &#x27;MaxHR&#x27;,\n",
       "                                  &#x27;Oldpeak&#x27;]),\n",
       "                                (&#x27;onehotencoder&#x27;,\n",
       "                                 OneHotEncoder(handle_unknown=&#x27;ignore&#x27;),\n",
       "                                 [&#x27;ChestPainType&#x27;, &#x27;RestingECG&#x27;, &#x27;ST_Slope&#x27;])])</pre></div></div></div><div class=\"sk-parallel\"><div class=\"sk-parallel-item\"><div class=\"sk-item\"><div class=\"sk-label-container\"><div class=\"sk-label sk-toggleable\"><input class=\"sk-toggleable__control sk-hidden--visually\" id=\"sk-estimator-id-85\" type=\"checkbox\" ><label for=\"sk-estimator-id-85\" class=\"sk-toggleable__label sk-toggleable__label-arrow\">standardscaler</label><div class=\"sk-toggleable__content\"><pre>[&#x27;Age&#x27;, &#x27;RestingBP&#x27;, &#x27;Cholesterol&#x27;, &#x27;MaxHR&#x27;, &#x27;Oldpeak&#x27;]</pre></div></div></div><div class=\"sk-serial\"><div class=\"sk-item\"><div class=\"sk-estimator sk-toggleable\"><input class=\"sk-toggleable__control sk-hidden--visually\" id=\"sk-estimator-id-86\" type=\"checkbox\" ><label for=\"sk-estimator-id-86\" class=\"sk-toggleable__label sk-toggleable__label-arrow\">StandardScaler</label><div class=\"sk-toggleable__content\"><pre>StandardScaler()</pre></div></div></div></div></div></div><div class=\"sk-parallel-item\"><div class=\"sk-item\"><div class=\"sk-label-container\"><div class=\"sk-label sk-toggleable\"><input class=\"sk-toggleable__control sk-hidden--visually\" id=\"sk-estimator-id-87\" type=\"checkbox\" ><label for=\"sk-estimator-id-87\" class=\"sk-toggleable__label sk-toggleable__label-arrow\">onehotencoder</label><div class=\"sk-toggleable__content\"><pre>[&#x27;ChestPainType&#x27;, &#x27;RestingECG&#x27;, &#x27;ST_Slope&#x27;]</pre></div></div></div><div class=\"sk-serial\"><div class=\"sk-item\"><div class=\"sk-estimator sk-toggleable\"><input class=\"sk-toggleable__control sk-hidden--visually\" id=\"sk-estimator-id-88\" type=\"checkbox\" ><label for=\"sk-estimator-id-88\" class=\"sk-toggleable__label sk-toggleable__label-arrow\">OneHotEncoder</label><div class=\"sk-toggleable__content\"><pre>OneHotEncoder(handle_unknown=&#x27;ignore&#x27;)</pre></div></div></div></div></div></div><div class=\"sk-parallel-item\"><div class=\"sk-item\"><div class=\"sk-label-container\"><div class=\"sk-label sk-toggleable\"><input class=\"sk-toggleable__control sk-hidden--visually\" id=\"sk-estimator-id-89\" type=\"checkbox\" ><label for=\"sk-estimator-id-89\" class=\"sk-toggleable__label sk-toggleable__label-arrow\">remainder</label><div class=\"sk-toggleable__content\"><pre></pre></div></div></div><div class=\"sk-serial\"><div class=\"sk-item\"><div class=\"sk-estimator sk-toggleable\"><input class=\"sk-toggleable__control sk-hidden--visually\" id=\"sk-estimator-id-90\" type=\"checkbox\" ><label for=\"sk-estimator-id-90\" class=\"sk-toggleable__label sk-toggleable__label-arrow\">passthrough</label><div class=\"sk-toggleable__content\"><pre>passthrough</pre></div></div></div></div></div></div></div></div></div></div>"
      ],
      "text/plain": [
       "ColumnTransformer(remainder='passthrough',\n",
       "                  transformers=[('standardscaler', StandardScaler(),\n",
       "                                 ['Age', 'RestingBP', 'Cholesterol', 'MaxHR',\n",
       "                                  'Oldpeak']),\n",
       "                                ('onehotencoder',\n",
       "                                 OneHotEncoder(handle_unknown='ignore'),\n",
       "                                 ['ChestPainType', 'RestingECG', 'ST_Slope'])])"
      ]
     },
     "execution_count": 288,
     "metadata": {},
     "output_type": "execute_result"
    }
   ],
   "source": [
    "# make preprocessor (column transformer)\n",
    "\n",
    "preprocessor = make_column_transformer(scale_tuple,\n",
    "                                      ohe_tuple,\n",
    "                                      remainder = 'passthrough')\n",
    "\n",
    "# check\n",
    "preprocessor"
   ]
  },
  {
   "cell_type": "code",
   "execution_count": 289,
   "id": "1aae6c5a",
   "metadata": {},
   "outputs": [
    {
     "data": {
      "text/plain": [
       "array([[ 0.24734343,  1.27485964,  1.29373674, ...,  0.        ,\n",
       "         1.        ,  1.        ],\n",
       "       [ 0.24734343,  1.27485964, -1.8711525 , ...,  0.        ,\n",
       "         0.        ,  0.        ],\n",
       "       [ 0.56635144,  0.9908317 ,  0.09070867, ...,  0.        ,\n",
       "         1.        ,  0.        ],\n",
       "       ...,\n",
       "       [ 1.20436747, -1.28139187,  0.4238549 , ...,  0.        ,\n",
       "         0.        ,  0.        ],\n",
       "       [ 0.67268745,  1.10444288, -1.8711525 , ...,  0.        ,\n",
       "         0.        ,  1.        ],\n",
       "       [-1.45403264,  0.9908317 ,  1.75643984, ...,  1.        ,\n",
       "         0.        ,  0.        ]])"
      ]
     },
     "execution_count": 289,
     "metadata": {},
     "output_type": "execute_result"
    }
   ],
   "source": [
    "# fit and transform X_train and X_test\n",
    "X_train = preprocessor.fit_transform(X_train)\n",
    "\n",
    "# check\n",
    "X_train"
   ]
  },
  {
   "cell_type": "code",
   "execution_count": 290,
   "id": "259556c2",
   "metadata": {},
   "outputs": [
    {
     "data": {
      "text/plain": [
       "array([[-0.92235262, -0.14528009,  0.29429803, ...,  1.        ,\n",
       "         0.        ,  0.        ],\n",
       "       [-0.07166459,  0.70680375,  2.92245167, ...,  0.        ,\n",
       "         0.        ,  0.        ],\n",
       "       [ 1.20436747,  1.55888759, -1.8711525 , ...,  0.        ,\n",
       "         1.        ,  0.        ],\n",
       "       ...,\n",
       "       [-0.07166459, -0.42930803, -1.8711525 , ...,  0.        ,\n",
       "         1.        ,  0.        ],\n",
       "       [ 0.03467142, -1.28139187,  0.05369242, ...,  0.        ,\n",
       "         0.        ,  0.        ],\n",
       "       [-1.56036865,  0.30916463,  0.16474116, ...,  1.        ,\n",
       "         0.        ,  0.        ]])"
      ]
     },
     "execution_count": 290,
     "metadata": {},
     "output_type": "execute_result"
    }
   ],
   "source": [
    "# fit and transform X_train and X_test\n",
    "X_test = preprocessor.transform(X_test)\n",
    "\n",
    "# check\n",
    "X_test"
   ]
  },
  {
   "cell_type": "markdown",
   "id": "37e895e4",
   "metadata": {},
   "source": [
    "# 4. Define your base sequential model."
   ]
  },
  {
   "cell_type": "code",
   "execution_count": 291,
   "id": "94f3b225",
   "metadata": {},
   "outputs": [],
   "source": [
    "# define sequential model\n",
    "model = Sequential()"
   ]
  },
  {
   "cell_type": "markdown",
   "id": "1f463612",
   "metadata": {},
   "source": [
    "# 5. Include the number of features of each sample in your input layer."
   ]
  },
  {
   "cell_type": "code",
   "execution_count": 292,
   "id": "8ade06f2",
   "metadata": {},
   "outputs": [
    {
     "data": {
      "text/plain": [
       "18"
      ]
     },
     "execution_count": 292,
     "metadata": {},
     "output_type": "execute_result"
    }
   ],
   "source": [
    "# define network structure (how many features are in X)\n",
    "input_features = X_train.shape[1]\n",
    "\n",
    "# check\n",
    "input_features"
   ]
  },
  {
   "cell_type": "code",
   "execution_count": 293,
   "id": "82236645",
   "metadata": {},
   "outputs": [],
   "source": [
    "# first hidden layer (with info on input layer)\n",
    "model.add(Dense(input_features, # how many neurons in layer*\n",
    "                input_dim = input_features, # number of features in X\n",
    "                activation = 'relu' # common to use in hidden layers\n",
    "               ))\n",
    "\n",
    "# * good choice to start with number of features in X"
   ]
  },
  {
   "cell_type": "markdown",
   "id": "a3b70967",
   "metadata": {},
   "source": [
    "# 6. Use the correct activation function and the correct number of neurons for your output layer."
   ]
  },
  {
   "cell_type": "code",
   "execution_count": 294,
   "id": "159d1aaf",
   "metadata": {},
   "outputs": [],
   "source": [
    "# output layer\n",
    "model.add(Dense(1, # number of nodes in output\n",
    "                activation = 'sigmoid' # for binary classification\n",
    "               ))"
   ]
  },
  {
   "cell_type": "markdown",
   "id": "a76c0dd4",
   "metadata": {},
   "source": [
    "# 7. Compile your model with the correct loss function and an optimizer (‘adam’ is a fine choice)."
   ]
  },
  {
   "cell_type": "code",
   "execution_count": 295,
   "id": "b25caf4f",
   "metadata": {},
   "outputs": [],
   "source": [
    "# compile\n",
    "model.compile(loss = 'bce', # for binary classification\n",
    "              optimizer = 'adam' # common\n",
    "             )"
   ]
  },
  {
   "cell_type": "code",
   "execution_count": 296,
   "id": "4d3be65f",
   "metadata": {},
   "outputs": [
    {
     "name": "stdout",
     "output_type": "stream",
     "text": [
      "Epoch 1/10\n",
      "22/22 [==============================] - 1s 8ms/step - loss: 0.7231 - val_loss: 0.6934\n",
      "Epoch 2/10\n",
      "22/22 [==============================] - 0s 2ms/step - loss: 0.6543 - val_loss: 0.6285\n",
      "Epoch 3/10\n",
      "22/22 [==============================] - 0s 2ms/step - loss: 0.6012 - val_loss: 0.5808\n",
      "Epoch 4/10\n",
      "22/22 [==============================] - 0s 2ms/step - loss: 0.5597 - val_loss: 0.5388\n",
      "Epoch 5/10\n",
      "22/22 [==============================] - 0s 2ms/step - loss: 0.5230 - val_loss: 0.5056\n",
      "Epoch 6/10\n",
      "22/22 [==============================] - 0s 2ms/step - loss: 0.4923 - val_loss: 0.4787\n",
      "Epoch 7/10\n",
      "22/22 [==============================] - 0s 2ms/step - loss: 0.4651 - val_loss: 0.4566\n",
      "Epoch 8/10\n",
      "22/22 [==============================] - 0s 2ms/step - loss: 0.4435 - val_loss: 0.4346\n",
      "Epoch 9/10\n",
      "22/22 [==============================] - 0s 2ms/step - loss: 0.4241 - val_loss: 0.4197\n",
      "Epoch 10/10\n",
      "22/22 [==============================] - 0s 2ms/step - loss: 0.4077 - val_loss: 0.4086\n"
     ]
    }
   ],
   "source": [
    "# fit\n",
    "history = model.fit(X_train, \n",
    "                    y_train,\n",
    "                    validation_data = (X_test, y_test),\n",
    "                    epochs = 10\n",
    "                   )"
   ]
  },
  {
   "cell_type": "markdown",
   "id": "47f17fda",
   "metadata": {},
   "source": [
    "# 8. Plot your model's training history."
   ]
  },
  {
   "cell_type": "code",
   "execution_count": 297,
   "id": "617ddb53",
   "metadata": {},
   "outputs": [
    {
     "data": {
      "image/png": "[encoded data removed]",
      "text/plain": [
       "<Figure size 640x480 with 1 Axes>"
      ]
     },
     "metadata": {},
     "output_type": "display_data"
    }
   ],
   "source": [
    "plt.plot(history.history['loss'], label = 'train loss')\n",
    "plt.plot(history.history['val_loss'], label = 'test loss')\n",
    "plt.legend();"
   ]
  },
  {
   "cell_type": "markdown",
   "id": "3abfa08d",
   "metadata": {},
   "source": [
    "# 9. Evaluate your models with appropriate metrics."
   ]
  },
  {
   "cell_type": "code",
   "execution_count": 301,
   "id": "a1225f96",
   "metadata": {},
   "outputs": [
    {
     "name": "stdout",
     "output_type": "stream",
     "text": [
      "8/8 [==============================] - 0s 855us/step\n",
      "              precision    recall  f1-score   support\n",
      "\n",
      "           0       0.77      0.83      0.80        90\n",
      "           1       0.89      0.84      0.86       140\n",
      "\n",
      "    accuracy                           0.83       230\n",
      "   macro avg       0.83      0.83      0.83       230\n",
      "weighted avg       0.84      0.83      0.84       230\n",
      "\n"
     ]
    },
    {
     "data": {
      "image/png": "[encoded data removed]",
      "text/plain": [
       "<Figure size 640x480 with 2 Axes>"
      ]
     },
     "metadata": {},
     "output_type": "display_data"
    }
   ],
   "source": [
    "# create test predictions\n",
    "test_pred = model.predict(X_test)\n",
    "\n",
    "# convert to binary (make threshold 0.5)\n",
    "test_pred_boolean = test_pred >= 0.5\n",
    "test_pred_binary = test_pred_boolean.astype(int)\n",
    "\n",
    "# evaluate model\n",
    "print(classification_report(y_test, \n",
    "                            test_pred_binary))\n",
    "ConfusionMatrixDisplay.from_predictions(y_test,\n",
    "                                       test_pred_binary,\n",
    "                                       normalize = 'all',\n",
    "                                       cmap = 'Blues');"
   ]
  },
  {
   "cell_type": "markdown",
   "id": "74abf45a",
   "metadata": {},
   "source": [
    "# 10. Try 2 more versions of the model with different numbers of layers and neurons."
   ]
  },
  {
   "cell_type": "code",
   "execution_count": 303,
   "id": "2a1bfd3f",
   "metadata": {},
   "outputs": [],
   "source": [
    "# model version 2\n",
    "model2 = Sequential()"
   ]
  },
  {
   "cell_type": "code",
   "execution_count": 304,
   "id": "a19f2bb0",
   "metadata": {},
   "outputs": [],
   "source": [
    "# first hidden layer (with info on input layer)\n",
    "model2.add(Dense(input_features, # how many neurons in layer*\n",
    "                input_dim = input_features, # number of features in X\n",
    "                activation = 'relu' # common to use in hidden layers\n",
    "               ))\n",
    "\n",
    "# * good choice to start with number of features in X\n",
    "\n",
    "# second hidden layer\n",
    "model2.add(Dense(input_features - (input_features * 0.75),\n",
    "                activation = 'relu'\n",
    "               ))\n",
    "\n",
    "# third hidden layer\n",
    "model2.add(Dense(input_features - (input_features * 0.5),\n",
    "                activation = 'relu'\n",
    "               ))\n",
    "\n",
    "# fourth hidden layer\n",
    "model2.add(Dense(input_features - (input_features * 0.25),\n",
    "                activation = 'relu'\n",
    "               ))"
   ]
  },
  {
   "cell_type": "code",
   "execution_count": 305,
   "id": "0b2b2e10",
   "metadata": {},
   "outputs": [],
   "source": [
    "# output layer\n",
    "model2.add(Dense(1, # number of nodes in output\n",
    "                activation = 'sigmoid' # for binary classification\n",
    "               ))"
   ]
  },
  {
   "cell_type": "code",
   "execution_count": 306,
   "id": "fcac0945",
   "metadata": {},
   "outputs": [],
   "source": [
    "# compile\n",
    "model2.compile(loss = 'bce', # for binary classification\n",
    "              optimizer = 'adam' # common\n",
    "             )"
   ]
  },
  {
   "cell_type": "code",
   "execution_count": 308,
   "id": "e680f140",
   "metadata": {},
   "outputs": [
    {
     "name": "stdout",
     "output_type": "stream",
     "text": [
      "Epoch 1/10\n",
      "22/22 [==============================] - 0s 4ms/step - loss: 0.4207 - val_loss: 0.3838\n",
      "Epoch 2/10\n",
      "22/22 [==============================] - 0s 2ms/step - loss: 0.4035 - val_loss: 0.3684\n",
      "Epoch 3/10\n",
      "22/22 [==============================] - 0s 2ms/step - loss: 0.3863 - val_loss: 0.3635\n",
      "Epoch 4/10\n",
      "22/22 [==============================] - 0s 3ms/step - loss: 0.3702 - val_loss: 0.3529\n",
      "Epoch 5/10\n",
      "22/22 [==============================] - 0s 2ms/step - loss: 0.3547 - val_loss: 0.3428\n",
      "Epoch 6/10\n",
      "22/22 [==============================] - 0s 2ms/step - loss: 0.3376 - val_loss: 0.3326\n",
      "Epoch 7/10\n",
      "22/22 [==============================] - 0s 2ms/step - loss: 0.3245 - val_loss: 0.3322\n",
      "Epoch 8/10\n",
      "22/22 [==============================] - 0s 2ms/step - loss: 0.3140 - val_loss: 0.3263\n",
      "Epoch 9/10\n",
      "22/22 [==============================] - 0s 2ms/step - loss: 0.3078 - val_loss: 0.3272\n",
      "Epoch 10/10\n",
      "22/22 [==============================] - 0s 2ms/step - loss: 0.3024 - val_loss: 0.3192\n"
     ]
    }
   ],
   "source": [
    "# fit\n",
    "history2 = model2.fit(X_train, \n",
    "                    y_train,\n",
    "                    validation_data = (X_test, y_test),\n",
    "                    epochs = 10\n",
    "                   )"
   ]
  },
  {
   "cell_type": "code",
   "execution_count": 310,
   "id": "b774f5d9",
   "metadata": {},
   "outputs": [
    {
     "data": {
      "image/png": "[encoded data removed]",
      "text/plain": [
       "<Figure size 640x480 with 1 Axes>"
      ]
     },
     "metadata": {},
     "output_type": "display_data"
    }
   ],
   "source": [
    "plt.plot(history2.history['loss'], label = 'train loss')\n",
    "plt.plot(history2.history['val_loss'], label = 'test loss')\n",
    "plt.legend();"
   ]
  },
  {
   "cell_type": "code",
   "execution_count": 311,
   "id": "353e6154",
   "metadata": {},
   "outputs": [
    {
     "name": "stdout",
     "output_type": "stream",
     "text": [
      "8/8 [==============================] - 0s 997us/step\n",
      "              precision    recall  f1-score   support\n",
      "\n",
      "           0       0.84      0.87      0.85        90\n",
      "           1       0.91      0.89      0.90       140\n",
      "\n",
      "    accuracy                           0.88       230\n",
      "   macro avg       0.88      0.88      0.88       230\n",
      "weighted avg       0.88      0.88      0.88       230\n",
      "\n"
     ]
    },
    {
     "data": {
      "image/png": "[encoded data removed]",
      "text/plain": [
       "<Figure size 640x480 with 2 Axes>"
      ]
     },
     "metadata": {},
     "output_type": "display_data"
    }
   ],
   "source": [
    "# create test predictions\n",
    "test_pred2 = model2.predict(X_test)\n",
    "\n",
    "# convert to binary (make threshold 0.5)\n",
    "test_pred2_boolean = test_pred2 >= 0.5\n",
    "test_pred2_binary = test_pred2_boolean.astype(int)\n",
    "\n",
    "# evaluate model\n",
    "print(classification_report(y_test, \n",
    "                            test_pred2_binary))\n",
    "ConfusionMatrixDisplay.from_predictions(y_test,\n",
    "                                       test_pred2_binary,\n",
    "                                       normalize = 'all',\n",
    "                                       cmap = 'Greens');"
   ]
  },
  {
   "cell_type": "code",
   "execution_count": 312,
   "id": "ff011ec4",
   "metadata": {},
   "outputs": [],
   "source": [
    "# model version 3\n",
    "model3 = Sequential()"
   ]
  },
  {
   "cell_type": "code",
   "execution_count": 313,
   "id": "e5090292",
   "metadata": {},
   "outputs": [],
   "source": [
    "# first hidden layer (with info on input layer)\n",
    "model3.add(Dense(input_features, # how many neurons in layer*\n",
    "                input_dim = input_features, # number of features in X\n",
    "                activation = 'relu' # common to use in hidden layers\n",
    "               ))\n",
    "\n",
    "# * good choice to start with number of features in X\n",
    "\n",
    "# second hidden layer\n",
    "model3.add(Dense(input_features - (input_features * 0.9),\n",
    "                activation = 'relu'\n",
    "               ))\n",
    "\n",
    "# third hidden layer\n",
    "model3.add(Dense(input_features - (input_features * 0.8),\n",
    "                activation = 'relu'\n",
    "               ))\n",
    "\n",
    "# fourth hidden layer\n",
    "model3.add(Dense(input_features - (input_features * 0.7),\n",
    "                activation = 'relu'\n",
    "               ))\n",
    "\n",
    "# fifth hidden layer\n",
    "model3.add(Dense(input_features - (input_features * 0.6),\n",
    "                activation = 'relu'\n",
    "               ))\n",
    "\n",
    "# sixth hidden layer\n",
    "model3.add(Dense(input_features - (input_features * 0.5),\n",
    "                activation = 'relu'\n",
    "               ))\n",
    "\n",
    "# seventh hidden layer\n",
    "model3.add(Dense(input_features - (input_features * 0.4),\n",
    "                activation = 'relu'\n",
    "               ))\n",
    "\n",
    "# eighth hidden layer\n",
    "model3.add(Dense(input_features - (input_features * 0.3),\n",
    "                activation = 'relu'\n",
    "               ))\n",
    "\n",
    "# ninth hidden layer\n",
    "model3.add(Dense(input_features - (input_features * 0.2),\n",
    "                activation = 'relu'\n",
    "               ))\n",
    "\n",
    "# tenth hidden layer\n",
    "model3.add(Dense(input_features - (input_features * 0.1),\n",
    "                activation = 'relu'\n",
    "               ))"
   ]
  },
  {
   "cell_type": "code",
   "execution_count": 314,
   "id": "3aa71c78",
   "metadata": {},
   "outputs": [],
   "source": [
    "# output layer\n",
    "model3.add(Dense(1, # number of nodes in output\n",
    "                activation = 'sigmoid' # for binary classification\n",
    "               ))"
   ]
  },
  {
   "cell_type": "code",
   "execution_count": 315,
   "id": "13231b0d",
   "metadata": {},
   "outputs": [],
   "source": [
    "# compile\n",
    "model3.compile(loss = 'bce', # for binary classification\n",
    "              optimizer = 'adam' # common\n",
    "             )"
   ]
  },
  {
   "cell_type": "code",
   "execution_count": 316,
   "id": "c08716e6",
   "metadata": {},
   "outputs": [
    {
     "name": "stdout",
     "output_type": "stream",
     "text": [
      "Epoch 1/10\n",
      "22/22 [==============================] - 1s 12ms/step - loss: 0.6759 - val_loss: 0.6633\n",
      "Epoch 2/10\n",
      "22/22 [==============================] - 0s 3ms/step - loss: 0.6163 - val_loss: 0.6196\n",
      "Epoch 3/10\n",
      "22/22 [==============================] - 0s 3ms/step - loss: 0.5594 - val_loss: 0.5819\n",
      "Epoch 4/10\n",
      "22/22 [==============================] - 0s 3ms/step - loss: 0.5222 - val_loss: 0.5518\n",
      "Epoch 5/10\n",
      "22/22 [==============================] - 0s 3ms/step - loss: 0.4849 - val_loss: 0.4946\n",
      "Epoch 6/10\n",
      "22/22 [==============================] - 0s 3ms/step - loss: 0.4383 - val_loss: 0.4451\n",
      "Epoch 7/10\n",
      "22/22 [==============================] - 0s 3ms/step - loss: 0.3974 - val_loss: 0.4136\n",
      "Epoch 8/10\n",
      "22/22 [==============================] - 0s 3ms/step - loss: 0.3796 - val_loss: 0.3836\n",
      "Epoch 9/10\n",
      "22/22 [==============================] - 0s 3ms/step - loss: 0.3666 - val_loss: 0.3968\n",
      "Epoch 10/10\n",
      "22/22 [==============================] - 0s 3ms/step - loss: 0.3591 - val_loss: 0.3809\n"
     ]
    }
   ],
   "source": [
    "# fit\n",
    "history3 = model3.fit(X_train, \n",
    "                    y_train,\n",
    "                    validation_data = (X_test, y_test),\n",
    "                    epochs = 10\n",
    "                   )"
   ]
  },
  {
   "cell_type": "code",
   "execution_count": 317,
   "id": "63edc237",
   "metadata": {},
   "outputs": [
    {
     "data": {
      "image/png": "[encoded data removed]",
      "text/plain": [
       "<Figure size 640x480 with 1 Axes>"
      ]
     },
     "metadata": {},
     "output_type": "display_data"
    }
   ],
   "source": [
    "plt.plot(history3.history['loss'], label = 'train loss')\n",
    "plt.plot(history3.history['val_loss'], label = 'test loss')\n",
    "plt.legend();"
   ]
  },
  {
   "cell_type": "code",
   "execution_count": 318,
   "id": "323173cf",
   "metadata": {},
   "outputs": [
    {
     "name": "stdout",
     "output_type": "stream",
     "text": [
      "8/8 [==============================] - 0s 1ms/step\n",
      "              precision    recall  f1-score   support\n",
      "\n",
      "           0       0.86      0.81      0.83        90\n",
      "           1       0.88      0.91      0.90       140\n",
      "\n",
      "    accuracy                           0.87       230\n",
      "   macro avg       0.87      0.86      0.87       230\n",
      "weighted avg       0.87      0.87      0.87       230\n",
      "\n"
     ]
    },
    {
     "data": {
      "image/png": "[encoded data removed]",
      "text/plain": [
       "<Figure size 640x480 with 2 Axes>"
      ]
     },
     "metadata": {},
     "output_type": "display_data"
    }
   ],
   "source": [
    "# create test predictions\n",
    "test_pred3 = model3.predict(X_test)\n",
    "\n",
    "# convert to binary (make threshold 0.5)\n",
    "test_pred3_boolean = test_pred3 >= 0.5\n",
    "test_pred3_binary = test_pred3_boolean.astype(int)\n",
    "\n",
    "# evaluate model\n",
    "print(classification_report(y_test, \n",
    "                            test_pred3_binary))\n",
    "ConfusionMatrixDisplay.from_predictions(y_test,\n",
    "                                       test_pred3_binary,\n",
    "                                       normalize = 'all',\n",
    "                                       cmap = 'Reds');"
   ]
  },
  {
   "cell_type": "code",
   "execution_count": null,
   "id": "a6c05e06",
   "metadata": {},
   "outputs": [],
   "source": []
  }
 ],
 "metadata": {
  "kernelspec": {
   "display_name": "Python (dojo-env)",
   "language": "python",
   "name": "dojo-env"
  },
  "language_info": {
   "codemirror_mode": {
    "name": "ipython",
    "version": 3
   },
   "file_extension": ".py",
   "mimetype": "text/x-python",
   "name": "python",
   "nbconvert_exporter": "python",
   "pygments_lexer": "ipython3",
   "version": "3.9.15"
  },
  "toc": {
   "base_numbering": 1,
   "nav_menu": {},
   "number_sections": false,
   "sideBar": true,
   "skip_h1_title": false,
   "title_cell": "Table of Contents",
   "title_sidebar": "Contents",
   "toc_cell": false,
   "toc_position": {},
   "toc_section_display": true,
   "toc_window_display": false
  }
 },
 "nbformat": 4,
 "nbformat_minor": 5
}
