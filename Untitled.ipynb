{
 "cells": [
  {
   "cell_type": "markdown",
   "id": "8c5fe9fe",
   "metadata": {},
   "source": [
    "# Clustering and Deep Learning Template"
   ]
  },
  {
   "cell_type": "markdown",
   "id": "cb00c390",
   "metadata": {},
   "source": [
    "# 1 Clustering - Cleaning (1.25)"
   ]
  },
  {
   "cell_type": "markdown",
   "id": "685380cd",
   "metadata": {},
   "source": [
    "## 1.1 Clustering data file is correctly loaded (0.25)"
   ]
  },
  {
   "cell_type": "markdown",
   "id": "7fabfebc",
   "metadata": {},
   "source": [
    "## 1.2 Data is properly cleaned (1)"
   ]
  },
  {
   "cell_type": "markdown",
   "id": "9f6ac8f2",
   "metadata": {},
   "source": [
    "# 2 Clustering (6.5)"
   ]
  },
  {
   "cell_type": "markdown",
   "id": "54bbafe1",
   "metadata": {},
   "source": [
    "## 2.1 Data is properly prepared for clustering (1)"
   ]
  },
  {
   "cell_type": "markdown",
   "id": "91efe1ac",
   "metadata": {},
   "source": [
    "## 2.2 KMeans model is fit on data (2)"
   ]
  },
  {
   "cell_type": "markdown",
   "id": "54be15e6",
   "metadata": {},
   "source": [
    "## 2.3 Compare intertia over 2-10 clusters (0.5)"
   ]
  },
  {
   "cell_type": "markdown",
   "id": "0f5af559",
   "metadata": {},
   "source": [
    "## 2.4 Compare silhouette score over 2-10 clusters (0.5)"
   ]
  },
  {
   "cell_type": "markdown",
   "id": "38471f42",
   "metadata": {},
   "source": [
    "## 2.5 Explain choice of number of clusters based on silhouette score or inertia (0.25)"
   ]
  },
  {
   "cell_type": "markdown",
   "id": "b7dd1007",
   "metadata": {},
   "source": [
    "## 2.6 1st explanatory visualization to describe a trend in clusters (1)"
   ]
  },
  {
   "cell_type": "markdown",
   "id": "93848213",
   "metadata": {},
   "source": [
    "## 2.7 Interprets 1st visualization to describe a trend in clusters (0.5)"
   ]
  },
  {
   "cell_type": "markdown",
   "id": "b063889f",
   "metadata": {},
   "source": [
    "## 2.8 2nd explanatory visualization shows a difference between clusters (0.5)"
   ]
  },
  {
   "cell_type": "markdown",
   "id": "fb8e1a8a",
   "metadata": {},
   "source": [
    "## 2.9 Interprets 2nd visualization to describe a trend in clusters (0.25)"
   ]
  },
  {
   "cell_type": "markdown",
   "id": "63d3e7c1",
   "metadata": {},
   "source": [
    "# 3 Modeling (11)"
   ]
  },
  {
   "cell_type": "markdown",
   "id": "bb443b2d",
   "metadata": {},
   "source": [
    "## 3.1 Modeling data file is correctly loaded (0.25)"
   ]
  },
  {
   "cell_type": "markdown",
   "id": "bc848a1a",
   "metadata": {},
   "source": [
    "## 3.2 Train/text split is performed (3)"
   ]
  },
  {
   "cell_type": "markdown",
   "id": "8a695c02",
   "metadata": {},
   "source": [
    "## 3.3 Data is prepared for PCA without data leakage (0.5)"
   ]
  },
  {
   "cell_type": "markdown",
   "id": "8f483a13",
   "metadata": {},
   "source": [
    "## 3.4 PCA is performed without data leakage (1)"
   ]
  },
  {
   "cell_type": "markdown",
   "id": "c53998fb",
   "metadata": {},
   "source": [
    "## 3.5 Sequential deep learning model 1 is created and fit on data (1)"
   ]
  },
  {
   "cell_type": "markdown",
   "id": "8d57137b",
   "metadata": {},
   "source": [
    "## 3.6 Reasons for changes between models 1 and 2 are explained in text (0.25)"
   ]
  },
  {
   "cell_type": "markdown",
   "id": "a4cf8e1d",
   "metadata": {},
   "source": [
    "## 3.7 Sequential deep learning model 2 is created and fit on data (0.5)"
   ]
  },
  {
   "cell_type": "markdown",
   "id": "06e2a72f",
   "metadata": {},
   "source": [
    "## 3.8 Reasons for changes between models 2 and 3 are explained in text (0.25)"
   ]
  },
  {
   "cell_type": "markdown",
   "id": "7d7baf4a",
   "metadata": {},
   "source": [
    "## 3.9 Sequential deep learning model 3 is created and fit on data (0.25)"
   ]
  },
  {
   "cell_type": "markdown",
   "id": "006dcd80",
   "metadata": {},
   "source": [
    "## 3.10 Regularization is used with at least 1 model (0.5)"
   ]
  },
  {
   "cell_type": "markdown",
   "id": "1a378bf6",
   "metadata": {},
   "source": [
    "## 3.11 Each model's final layer is appropriate to the prediction type (1)"
   ]
  },
  {
   "cell_type": "markdown",
   "id": "5fc21346",
   "metadata": {},
   "source": [
    "## 3.12 Model loss function is appropriate to prediction type (1)"
   ]
  },
  {
   "cell_type": "markdown",
   "id": "13ac1182",
   "metadata": {},
   "source": [
    "## 3.13 Final model is chosen (0.5)"
   ]
  },
  {
   "cell_type": "markdown",
   "id": "af1d9dbb",
   "metadata": {},
   "source": [
    "## 3.14 Final model choice is justified in text (0.25)"
   ]
  },
  {
   "cell_type": "markdown",
   "id": "9821701d",
   "metadata": {},
   "source": [
    "## 3.15 Evaluates final model with multiple appropriate metrics (0.25)"
   ]
  },
  {
   "cell_type": "markdown",
   "id": "eb620fe2",
   "metadata": {},
   "source": [
    "## 3.16 Summary relates final model performance to business problem (0.5)"
   ]
  },
  {
   "cell_type": "markdown",
   "id": "c3259a59",
   "metadata": {},
   "source": [
    "# 4 Other (1.5)"
   ]
  },
  {
   "cell_type": "markdown",
   "id": "07b5c704",
   "metadata": {},
   "source": [
    "## 4.1 File requirements: Python code for part 1 (0.25)"
   ]
  },
  {
   "cell_type": "markdown",
   "id": "bf1b9c25",
   "metadata": {},
   "source": [
    "## 4.2 File requirements: Python code for part 2 (0.25)"
   ]
  },
  {
   "cell_type": "markdown",
   "id": "b90e2977",
   "metadata": {},
   "source": [
    "## 4.3 Code: Organization, structure, indentation, comments (0.25)"
   ]
  },
  {
   "cell_type": "markdown",
   "id": "2d4dc8c8",
   "metadata": {},
   "source": [
    "## 4.4 Code: Unnecessary code or errors in code (0.25)"
   ]
  },
  {
   "cell_type": "markdown",
   "id": "8d680944",
   "metadata": {},
   "source": [
    "## 4.5 Code: Unnecessary imports (0.25)"
   ]
  },
  {
   "cell_type": "markdown",
   "id": "ab0a603b",
   "metadata": {},
   "source": [
    "## 4.6 Code: Unnecessary files (0.25)"
   ]
  },
  {
   "cell_type": "markdown",
   "id": "0b45c9e5",
   "metadata": {},
   "source": [
    "# Total points"
   ]
  },
  {
   "cell_type": "code",
   "execution_count": 1,
   "id": "b3e4b42e",
   "metadata": {},
   "outputs": [
    {
     "data": {
      "text/plain": [
       "20.25"
      ]
     },
     "execution_count": 1,
     "metadata": {},
     "output_type": "execute_result"
    }
   ],
   "source": [
    "1.25 + 6.5 + 11 + 1.5"
   ]
  },
  {
   "cell_type": "code",
   "execution_count": null,
   "id": "516d29d1",
   "metadata": {},
   "outputs": [],
   "source": []
  }
 ],
 "metadata": {
  "kernelspec": {
   "display_name": "Python 3 (ipykernel)",
   "language": "python",
   "name": "python3"
  },
  "language_info": {
   "codemirror_mode": {
    "name": "ipython",
    "version": 3
   },
   "file_extension": ".py",
   "mimetype": "text/x-python",
   "name": "python",
   "nbconvert_exporter": "python",
   "pygments_lexer": "ipython3",
   "version": "3.10.9"
  }
 },
 "nbformat": 4,
 "nbformat_minor": 5
}
